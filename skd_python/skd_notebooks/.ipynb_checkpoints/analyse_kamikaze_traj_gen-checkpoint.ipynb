{
 "cells": [
  {
   "cell_type": "code",
   "execution_count": 1,
   "id": "8d4edd90-dadd-4677-a245-32dfe82d3196",
   "metadata": {},
   "outputs": [],
   "source": [
    "import sys, os\n",
    "from datetime import datetime\n",
    "# Setup\n",
    "skd_python_dir = os.path.dirname(os.getcwd())\n",
    "if(skd_python_dir not in sys.path):\n",
    "    sys.path.append(skd_python_dir)\n",
    "\n",
    "# Import local skd_libraries\n",
    "import skd_collision_tests.collision_environment.collision_env_utils as collision_env_utils\n",
    "import skd_collision_tests.collision_environment.collision_environment as collision_environment\n",
    "import skd_collision_tests.collision_environment.collision_experiments_loader as collision_loader\n",
    "import skd_collision_tests.collision_environment.collision_data_analyser as collision_data_analyser\n",
    "\n",
    "# Import skd core libraries\n",
    "import skd_core.skd_core_utils.skd_core_utils as skd_core_utils\n",
    "import skd_core.skd_core_generators.skd_kamikaze_traj_gen as skd_kamikaze_traj_gen\n",
    "import skd_core.skd_core_analysers.skd_kamikaze_data_analyser as skd_kamikaze_data_analyser\n"
   ]
  },
  {
   "cell_type": "code",
   "execution_count": 2,
   "id": "20ffe076-7bd5-4081-8581-278b3ccd4ad0",
   "metadata": {},
   "outputs": [
    {
     "name": "stdout",
     "output_type": "stream",
     "text": [
      "Analysing experiments output data\n"
     ]
    },
    {
     "ename": "IndexError",
     "evalue": "list index out of range",
     "output_type": "error",
     "traceback": [
      "\u001b[0;31m---------------------------------------------------------------------------\u001b[0m",
      "\u001b[0;31mIndexError\u001b[0m                                Traceback (most recent call last)",
      "\u001b[0;32m<ipython-input-2-f9b7877e9881>\u001b[0m in \u001b[0;36m<module>\u001b[0;34m()\u001b[0m\n\u001b[1;32m     10\u001b[0m \u001b[0mexperiments_data_dir\u001b[0m \u001b[0;34m=\u001b[0m \u001b[0mos\u001b[0m\u001b[0;34m.\u001b[0m\u001b[0mgetcwd\u001b[0m\u001b[0;34m(\u001b[0m\u001b[0;34m)\u001b[0m \u001b[0;34m+\u001b[0m \u001b[0;34m\"/testing_output\"\u001b[0m\u001b[0;34m\u001b[0m\u001b[0;34m\u001b[0m\u001b[0m\n\u001b[1;32m     11\u001b[0m \u001b[0msummary_file\u001b[0m \u001b[0;34m=\u001b[0m \u001b[0;34m\"/home/jimy/SKD_DEVEL/skd_python/testKamikaze_05-26-06-58-50/kamikaze_experiments_summary/experiments_summary.yaml\"\u001b[0m\u001b[0;34m\u001b[0m\u001b[0;34m\u001b[0m\u001b[0m\n\u001b[0;32m---> 12\u001b[0;31m \u001b[0manalyse_experimental_output\u001b[0m\u001b[0;34m(\u001b[0m\u001b[0msummary_file\u001b[0m\u001b[0;34m,\u001b[0m \u001b[0mexperiments_data_dir\u001b[0m\u001b[0;34m)\u001b[0m\u001b[0;34m\u001b[0m\u001b[0;34m\u001b[0m\u001b[0m\n\u001b[0m",
      "\u001b[0;32m<ipython-input-2-f9b7877e9881>\u001b[0m in \u001b[0;36manalyse_experimental_output\u001b[0;34m(summary_file_path, outputdir)\u001b[0m\n\u001b[1;32m      2\u001b[0m \u001b[0;32mdef\u001b[0m \u001b[0manalyse_experimental_output\u001b[0m\u001b[0;34m(\u001b[0m\u001b[0msummary_file_path\u001b[0m\u001b[0;34m,\u001b[0m \u001b[0moutputdir\u001b[0m\u001b[0;34m)\u001b[0m\u001b[0;34m:\u001b[0m\u001b[0;34m\u001b[0m\u001b[0;34m\u001b[0m\u001b[0m\n\u001b[1;32m      3\u001b[0m         \u001b[0manalyser\u001b[0m \u001b[0;34m=\u001b[0m \u001b[0mskd_kamikaze_data_analyser\u001b[0m\u001b[0;34m.\u001b[0m\u001b[0mSKDKamikazeDataAnalyser\u001b[0m\u001b[0;34m(\u001b[0m\u001b[0msummary_file_path\u001b[0m\u001b[0;34m,\u001b[0m \u001b[0moutputdir\u001b[0m\u001b[0;34m)\u001b[0m\u001b[0;34m\u001b[0m\u001b[0;34m\u001b[0m\u001b[0m\n\u001b[0;32m----> 4\u001b[0;31m         \u001b[0manalyser\u001b[0m\u001b[0;34m.\u001b[0m\u001b[0mparse_summary_data\u001b[0m\u001b[0;34m(\u001b[0m\u001b[0;34m)\u001b[0m\u001b[0;34m\u001b[0m\u001b[0;34m\u001b[0m\u001b[0m\n\u001b[0m\u001b[1;32m      5\u001b[0m \u001b[0;34m\u001b[0m\u001b[0m\n\u001b[1;32m      6\u001b[0m \u001b[0;34m\u001b[0m\u001b[0m\n",
      "\u001b[0;32m/home/jimy/SKD_DEVEL/skd_python/skd_core/skd_core_analysers/skd_kamikaze_data_analyser.py\u001b[0m in \u001b[0;36mparse_summary_data\u001b[0;34m(self)\u001b[0m\n\u001b[1;32m     43\u001b[0m             \u001b[0mcontroller_summary\u001b[0m \u001b[0;34m=\u001b[0m \u001b[0mself\u001b[0m\u001b[0;34m.\u001b[0m\u001b[0mparsing_summary_data\u001b[0m\u001b[0;34m[\u001b[0m\u001b[0mcontroller_id\u001b[0m\u001b[0;34m]\u001b[0m\u001b[0;34m\u001b[0m\u001b[0;34m\u001b[0m\u001b[0m\n\u001b[1;32m     44\u001b[0m \u001b[0;34m\u001b[0m\u001b[0m\n\u001b[0;32m---> 45\u001b[0;31m             \u001b[0mcontroller_row_data\u001b[0m \u001b[0;34m=\u001b[0m \u001b[0mself\u001b[0m\u001b[0;34m.\u001b[0m\u001b[0mparse_controller_summary\u001b[0m\u001b[0;34m(\u001b[0m\u001b[0mcontroller_id\u001b[0m\u001b[0;34m,\u001b[0m \u001b[0mcontroller_summary\u001b[0m\u001b[0;34m)\u001b[0m\u001b[0;34m\u001b[0m\u001b[0;34m\u001b[0m\u001b[0m\n\u001b[0m\u001b[1;32m     46\u001b[0m \u001b[0;34m\u001b[0m\u001b[0m\n\u001b[1;32m     47\u001b[0m             \u001b[0;31m# Save controller data to summary\u001b[0m\u001b[0;34m\u001b[0m\u001b[0;34m\u001b[0m\u001b[0;34m\u001b[0m\u001b[0m\n",
      "\u001b[0;32m/home/jimy/SKD_DEVEL/skd_python/skd_core/skd_core_analysers/skd_kamikaze_data_analyser.py\u001b[0m in \u001b[0;36mparse_controller_summary\u001b[0;34m(self, controller_id, controller_summary)\u001b[0m\n\u001b[1;32m     73\u001b[0m             \u001b[0;31m# Process summary record\u001b[0m\u001b[0;34m\u001b[0m\u001b[0;34m\u001b[0m\u001b[0;34m\u001b[0m\u001b[0m\n\u001b[1;32m     74\u001b[0m             traj_file_fretchet_stats, traj_file_timing_stats = self.process_safe_traj_file_summary(\n\u001b[0;32m---> 75\u001b[0;31m                                                             controller_id, safe_traj_file_summary)\n\u001b[0m\u001b[1;32m     76\u001b[0m \u001b[0;34m\u001b[0m\u001b[0m\n\u001b[1;32m     77\u001b[0m             \u001b[0;31m# Save stats\u001b[0m\u001b[0;34m\u001b[0m\u001b[0;34m\u001b[0m\u001b[0;34m\u001b[0m\u001b[0m\n",
      "\u001b[0;32m/home/jimy/SKD_DEVEL/skd_python/skd_core/skd_core_analysers/skd_kamikaze_data_analyser.py\u001b[0m in \u001b[0;36mprocess_safe_traj_file_summary\u001b[0;34m(self, controller_id, safe_traj_file_summary)\u001b[0m\n\u001b[1;32m    133\u001b[0m             \u001b[0;31m# Process single safe_trajectory dir\u001b[0m\u001b[0;34m\u001b[0m\u001b[0;34m\u001b[0m\u001b[0;34m\u001b[0m\u001b[0m\n\u001b[1;32m    134\u001b[0m             single_traj_fretcht_stats, single_traj_timings_stats = self.process_single_safe_trajectory(\n\u001b[0;32m--> 135\u001b[0;31m                 safe_traj_dir, safe_traj_filepath, controller_id, safe_traj_file_keyname, safe_traj_index)\n\u001b[0m\u001b[1;32m    136\u001b[0m \u001b[0;34m\u001b[0m\u001b[0m\n\u001b[1;32m    137\u001b[0m             \u001b[0;31m# Save stats\u001b[0m\u001b[0;34m\u001b[0m\u001b[0;34m\u001b[0m\u001b[0;34m\u001b[0m\u001b[0m\n",
      "\u001b[0;32m/home/jimy/SKD_DEVEL/skd_python/skd_core/skd_core_analysers/skd_kamikaze_data_analyser.py\u001b[0m in \u001b[0;36mprocess_single_safe_trajectory\u001b[0;34m(self, safe_traj_dir, safe_traj_filepath, controller_id, safe_traj_file_keyname, safe_traj_index, augmented)\u001b[0m\n\u001b[1;32m    174\u001b[0m         \u001b[0;31m#print(\"COMPUTE STATS HEADER\")\u001b[0m\u001b[0;34m\u001b[0m\u001b[0;34m\u001b[0m\u001b[0;34m\u001b[0m\u001b[0m\n\u001b[1;32m    175\u001b[0m         records_fretchet_dists, records_fretchet_times = self.compute_traj_records_fretchet_stats(\n\u001b[0;32m--> 176\u001b[0;31m                                         safe_traj_data_records, safe_traj_outdir)\n\u001b[0m\u001b[1;32m    177\u001b[0m         \u001b[0;31m#print(\"COMPUTE STATS END\")\u001b[0m\u001b[0;34m\u001b[0m\u001b[0;34m\u001b[0m\u001b[0;34m\u001b[0m\u001b[0m\n\u001b[1;32m    178\u001b[0m \u001b[0;34m\u001b[0m\u001b[0m\n",
      "\u001b[0;32m/home/jimy/SKD_DEVEL/skd_python/skd_core/skd_core_analysers/skd_kamikaze_data_analyser.py\u001b[0m in \u001b[0;36mcompute_traj_records_fretchet_stats\u001b[0;34m(self, traj_records, outputdir, augmented, save_plots)\u001b[0m\n\u001b[1;32m    224\u001b[0m \u001b[0;34m\u001b[0m\u001b[0m\n\u001b[1;32m    225\u001b[0m                 \u001b[0mplot_title\u001b[0m \u001b[0;34m=\u001b[0m  \u001b[0;34m\"SKD Interaction experiment number %d, Estimated SKD = %f\"\u001b[0m \u001b[0;34m%\u001b[0m \u001b[0;34m(\u001b[0m\u001b[0mrecord_index\u001b[0m\u001b[0;34m,\u001b[0m \u001b[0mrecord_frechet\u001b[0m\u001b[0;34m)\u001b[0m\u001b[0;34m\u001b[0m\u001b[0;34m\u001b[0m\u001b[0m\n\u001b[0;32m--> 226\u001b[0;31m                 \u001b[0mskd_core_utils\u001b[0m\u001b[0;34m.\u001b[0m\u001b[0msave_trajectory_plots\u001b[0m\u001b[0;34m(\u001b[0m\u001b[0mrecord_index\u001b[0m\u001b[0;34m,\u001b[0m \u001b[0mrecord\u001b[0m\u001b[0;34m.\u001b[0m\u001b[0mget_safe_traj\u001b[0m\u001b[0;34m(\u001b[0m\u001b[0;34m)\u001b[0m\u001b[0;34m,\u001b[0m \u001b[0mrecord\u001b[0m\u001b[0;34m.\u001b[0m\u001b[0mget_kamikaze_veh_traj\u001b[0m\u001b[0;34m(\u001b[0m\u001b[0;34m)\u001b[0m\u001b[0;34m,\u001b[0m \u001b[0mplot_title\u001b[0m\u001b[0;34m,\u001b[0m \u001b[0mplot_output_dir\u001b[0m\u001b[0;34m)\u001b[0m\u001b[0;34m\u001b[0m\u001b[0;34m\u001b[0m\u001b[0m\n\u001b[0m\u001b[1;32m    227\u001b[0m \u001b[0;34m\u001b[0m\u001b[0m\n\u001b[1;32m    228\u001b[0m         \u001b[0;32mreturn\u001b[0m \u001b[0msafe_traj_fretchet_distances\u001b[0m\u001b[0;34m,\u001b[0m \u001b[0msafe_traj_fretchet_timings\u001b[0m\u001b[0;34m\u001b[0m\u001b[0;34m\u001b[0m\u001b[0m\n",
      "\u001b[0;32m/home/jimy/SKD_DEVEL/skd_python/skd_core/skd_core_utils/skd_core_utils.py\u001b[0m in \u001b[0;36msave_trajectory_plots\u001b[0;34m(run_num, ped_traj, veh_traj, title, output_dir)\u001b[0m\n\u001b[1;32m    285\u001b[0m         \u001b[0mped_loc_longit_points\u001b[0m\u001b[0;34m.\u001b[0m\u001b[0mappend\u001b[0m\u001b[0;34m(\u001b[0m\u001b[0mped_point\u001b[0m\u001b[0;34m[\u001b[0m\u001b[0;36m0\u001b[0m\u001b[0;34m]\u001b[0m\u001b[0;34m)\u001b[0m\u001b[0;34m\u001b[0m\u001b[0;34m\u001b[0m\u001b[0m\n\u001b[1;32m    286\u001b[0m         \u001b[0mped_loc_horizontal_points\u001b[0m\u001b[0;34m.\u001b[0m\u001b[0mappend\u001b[0m\u001b[0;34m(\u001b[0m\u001b[0;34m-\u001b[0m\u001b[0mped_point\u001b[0m\u001b[0;34m[\u001b[0m\u001b[0;36m1\u001b[0m\u001b[0;34m]\u001b[0m\u001b[0;34m)\u001b[0m\u001b[0;34m\u001b[0m\u001b[0;34m\u001b[0m\u001b[0m\n\u001b[0;32m--> 287\u001b[0;31m         \u001b[0mcar_loc_longit_points\u001b[0m\u001b[0;34m.\u001b[0m\u001b[0mappend\u001b[0m\u001b[0;34m(\u001b[0m\u001b[0mveh_point\u001b[0m\u001b[0;34m[\u001b[0m\u001b[0;36m2\u001b[0m\u001b[0;34m]\u001b[0m\u001b[0;34m)\u001b[0m\u001b[0;34m\u001b[0m\u001b[0;34m\u001b[0m\u001b[0m\n\u001b[0m\u001b[1;32m    288\u001b[0m         \u001b[0mcar_loc_horizontal_points\u001b[0m\u001b[0;34m.\u001b[0m\u001b[0mappend\u001b[0m\u001b[0;34m(\u001b[0m\u001b[0;34m-\u001b[0m\u001b[0mveh_point\u001b[0m\u001b[0;34m[\u001b[0m\u001b[0;36m3\u001b[0m\u001b[0;34m]\u001b[0m\u001b[0;34m)\u001b[0m\u001b[0;34m\u001b[0m\u001b[0;34m\u001b[0m\u001b[0m\n\u001b[1;32m    289\u001b[0m \u001b[0;34m\u001b[0m\u001b[0m\n",
      "\u001b[0;31mIndexError\u001b[0m: list index out of range"
     ]
    }
   ],
   "source": [
    "## Example function to analyse output from kamikaze traj experiments\n",
    "def analyse_experimental_output(summary_file_path, outputdir):\n",
    "\tanalyser = skd_kamikaze_data_analyser.SKDKamikazeDataAnalyser(summary_file_path, outputdir)\n",
    "\tanalyser.parse_summary_data()\n",
    "\n",
    "    \n",
    "\n",
    "# Analyse kamikaze trajectory experiments\n",
    "print(\"Analysing experiments output data\")\n",
    "experiments_data_dir = os.getcwd() + \"/testing_output\"\n",
    "summary_file = \"/home/jimy/SKD_DEVEL/skd_python/testKamikaze_05-26-06-58-50/kamikaze_experiments_summary/experiments_summary.yaml\"\n",
    "analyse_experimental_output(summary_file, experiments_data_dir)"
   ]
  }
 ],
 "metadata": {
  "kernelspec": {
   "display_name": "Python 3",
   "language": "python",
   "name": "python3"
  },
  "language_info": {
   "codemirror_mode": {
    "name": "ipython",
    "version": 3
   },
   "file_extension": ".py",
   "mimetype": "text/x-python",
   "name": "python",
   "nbconvert_exporter": "python",
   "pygments_lexer": "ipython3",
   "version": "3.6.12"
  }
 },
 "nbformat": 4,
 "nbformat_minor": 5
}
