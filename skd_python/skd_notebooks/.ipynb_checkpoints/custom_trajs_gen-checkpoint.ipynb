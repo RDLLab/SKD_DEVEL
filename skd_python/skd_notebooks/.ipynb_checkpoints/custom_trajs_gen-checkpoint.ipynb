{
 "cells": [
  {
   "cell_type": "markdown",
   "id": "c09488d1-2446-4e5b-8f52-4e95143f91c5",
   "metadata": {},
   "source": [
    "## Custom trajectory generation"
   ]
  },
  {
   "cell_type": "code",
   "execution_count": 1,
   "id": "351dcba4-447d-44c6-b5a1-0a9f6a32c726",
   "metadata": {},
   "outputs": [],
   "source": [
    "%matplotlib inline\n",
    "import sys, os\n",
    "from datetime import datetime\n",
    "# Setup\n",
    "skd_python_dir = os.path.dirname(os.getcwd())\n",
    "if(skd_python_dir not in sys.path):\n",
    "    sys.path.append(skd_python_dir)\n",
    "    \n",
    "#Outdir header\n",
    "outdir_header = \"final_experiments\""
   ]
  },
  {
   "cell_type": "code",
   "execution_count": 2,
   "id": "a26429c9-bc96-4e4f-b7b2-921845ff278f",
   "metadata": {},
   "outputs": [
    {
     "name": "stdout",
     "output_type": "stream",
     "text": [
      "/home/jimy/Desktop/skd_experiments/final_experiments/final_experiments_05-28-04-22-15\n",
      "DONE SAVING\n"
     ]
    }
   ],
   "source": [
    "\n",
    "## Generate samples of safe trajectory using the skd_trajectories/trajectories_generators.py\n",
    "import skd_trajectories.trajectories_generators as traj_gens\n",
    "import os\n",
    "from datetime import datetime\n",
    "\n",
    "timestamp = datetime.now().strftime(\"%m-%d-%H-%M-%S\")\n",
    "# Define bounds for start, mid, end points of the safe trajectory\n",
    "start_bounds = [122, 118]\n",
    "mid_bounds = [122, 118]\n",
    "end_bounds = [122, 118]\n",
    "\n",
    "NUM_STEPS_HALF_1 = 6\n",
    "NUM_STEPS_HALF_2 = 4\n",
    "\n",
    "# Define number of safe trajs to generate\n",
    "NUM_SAMPLES = 2\n",
    "\n",
    "# Print sample safe trajectory sets\n",
    "sampled_trajs = traj_gens.sample_safe_trajectory_set(start_bounds, mid_bounds, end_bounds, num_trajs = NUM_SAMPLES,\n",
    "                                                    steps_half1 = NUM_STEPS_HALF_1, steps_half2 = NUM_STEPS_HALF_2)\n",
    "\n",
    "\n",
    "# Save trajectories\n",
    "safe_trajs_title = \"traj_set_1\"\n",
    "trajectories_db = skd_python_dir + \"/skd_trajectories/skd_trajectories_db\"\n",
    "save_path = trajectories_db + \"/%s.json\" % (safe_trajs_title)\n",
    "traj_gens.save_trajs_to_json(sampled_trajs, save_path)\n",
    "\n",
    "# Save plots\n",
    "plots_outdir = os.getenv(\"HOME\") + \"/Desktop/skd_experiments/final_experiments/%s_%s\" % (outdir_header, timestamp) \n",
    "\n",
    "try:\n",
    "    os.makedirs(plots_outdir)\n",
    "except Exception as error:\n",
    "    pass\n",
    "\n",
    "traj_gens.plot_safe_trajectories(sampled_trajs, plots_outdir, \"Sampled_6_4\")\n",
    "\n",
    "print(plots_outdir)\n",
    "print(\"DONE SAVING\")\n",
    "\n",
    "    \n",
    "\n",
    "    "
   ]
  },
  {
   "cell_type": "code",
   "execution_count": null,
   "id": "8f0add99-1ae5-4ef6-8205-9fe8cb08d175",
   "metadata": {},
   "outputs": [],
   "source": []
  },
  {
   "cell_type": "code",
   "execution_count": null,
   "id": "8d8dc48a-277c-43b0-adaa-726680af0d73",
   "metadata": {},
   "outputs": [],
   "source": []
  }
 ],
 "metadata": {
  "kernelspec": {
   "display_name": "Python 3",
   "language": "python",
   "name": "python3"
  },
  "language_info": {
   "codemirror_mode": {
    "name": "ipython",
    "version": 3
   },
   "file_extension": ".py",
   "mimetype": "text/x-python",
   "name": "python",
   "nbconvert_exporter": "python",
   "pygments_lexer": "ipython3",
   "version": "3.6.12"
  }
 },
 "nbformat": 4,
 "nbformat_minor": 5
}
