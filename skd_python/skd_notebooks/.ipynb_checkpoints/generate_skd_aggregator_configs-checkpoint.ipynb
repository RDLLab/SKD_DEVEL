{
 "cells": [
  {
   "cell_type": "code",
   "execution_count": 1,
   "id": "10989922-0411-48ac-a66a-b9013f780c58",
   "metadata": {},
   "outputs": [],
   "source": [
    "import sys, os\n",
    "from datetime import datetime\n",
    "# Setup\n",
    "skd_python_dir = os.path.dirname(os.getcwd())\n",
    "if(skd_python_dir not in sys.path):\n",
    "    sys.path.append(skd_python_dir)\n",
    "\n",
    "# Import local skd_libraries\n",
    "import skd_collision_tests.collision_environment.collision_env_utils as collision_env_utils\n",
    "import skd_collision_tests.collision_environment.collision_environment as collision_environment\n",
    "import skd_collision_tests.collision_environment.collision_experiments_loader as collision_loader\n",
    "import skd_collision_tests.collision_environment.collision_data_analyser as collision_data_analyser\n",
    "\n",
    "# Import skd core libraries\n",
    "import skd_core.skd_core_utils.skd_core_utils as skd_core_utils\n",
    "import skd_core.skd_core_generators.skd_safe_traj_gen as skd_safe_traj_gen\n"
   ]
  },
  {
   "cell_type": "code",
   "execution_count": 2,
   "id": "c3c7a4fb-a6ff-4a25-9141-e8f37708cee0",
   "metadata": {},
   "outputs": [],
   "source": [
    "# Example function to generate safe traj generation experiments\n",
    "def generate_safe_traj_configs():\n",
    "    # Set outpath for config file (Send it to ../config for now)\n",
    "\t# Set options for config file\n",
    "    # Set goal bounds in [longit_min, longit_max, hoz_min, hoz_max]\n",
    "    goal_bound1 = [119, 120, -4.75, -3.75]\n",
    "    #goal_bound2 = [119.5, 121, -4, -3.5]\n",
    "    goal_bounds = [goal_bound1]\n",
    "    # Template path for config file\n",
    "    cfg_template = skd_python_dir + \"/config/SafeTrajGen.cfg\"\n",
    "    # Number of attempts per goal bound\n",
    "    attempts = 2\n",
    "    # Initial state for safe traj file [ped_longit, ped_hoz, car_longit, car_hoz, car_speed, car_intention]\n",
    "    initial_state = [120, 3, 100, -2, 0, 3]\n",
    "    configs = skd_core_utils.get_safe_trajs_config(goal_bounds, initial_state, cfg_template, attempts=attempts)\n",
    "    \n",
    "    # Return config outpath\n",
    "    return configs\n",
    "\n",
    "\n",
    "# Example function to generate kamikaze traj generation experiments\n",
    "def generate_kamikaze_experiments_config(safe_traj_files=[]):\n",
    "    # Set outpath for config file (Send it to ../config for now)\n",
    "\t# Set options for config file\n",
    "    controller_ids = [0.5]\n",
    "    \n",
    "    # Path to the generic cfg file to template\n",
    "    generic_cfg_path = skd_python_dir + \"/config/KamikazeTrajGen.cfg\"\n",
    "    \n",
    "    # Safe trajectory filepaths to consider. If empty (GUI will ask user for files)\n",
    "    attemps_per_file = 2\n",
    "    max_traj_per_file = 2\n",
    "    kamikaze_configs = skd_core_utils.get_kamikaze_configs(controller_ids, safe_traj_files, generic_cfg_path,\n",
    "                                                           attempts = attemps_per_file, trajs_per_file = max_traj_per_file)\n",
    "    \n",
    "    # Return config outpath\n",
    "    return kamikaze_configs\n",
    "\n"
   ]
  },
  {
   "cell_type": "code",
   "execution_count": 3,
   "id": "cce59761-6b9f-4441-8abf-86ccaddfa597",
   "metadata": {},
   "outputs": [
    {
     "name": "stdout",
     "output_type": "stream",
     "text": [
      "GENERAL CONFIGS\n",
      "{'safe_traj_gen_configs': {'goal_bounds': [[119, 120, -4.75, -3.75]], 'safe_trajs_attempts_per_goal': 2, 'initial_state': [120, 3, 100, -2, 0, 3], 'safe_gen_cfg_file': '/home/jimy/SKD_DEVEL/skd_python/config/SafeTrajGen.cfg'}, 'kamikaze_traj_gen_configs': {'safe_traj_files': [], 'attempts_per_goal': 2, 'controller_multipliers': [0.5], 'max_trajs_per_file': 2, 'kamikaze_cfg_file': '/home/jimy/SKD_DEVEL/skd_python/config/KamikazeTrajGen.cfg'}}\n",
      "Saved to /home/jimy/SKD_DEVEL/skd_python/config/skd_config.yaml\n"
     ]
    }
   ],
   "source": [
    "## Execute generation funtions and save global config\n",
    "outdir = os.getcwd() + \"/testing_output\"\n",
    "safe_traj_gen_configs = generate_safe_traj_configs()\n",
    "kamikaze_traj_configs = generate_kamikaze_experiments_config()\n",
    "\n",
    "\n",
    "general_configs = {\"safe_traj_gen_configs\" : safe_traj_gen_configs,\n",
    "                  \"kamikaze_traj_gen_configs\" : kamikaze_traj_configs}\n",
    "\n",
    "# Save to a confile file\n",
    "config_outpath = \"/home/jimy/SKD_DEVEL/skd_python/config/skd_config.yaml\"\n",
    "skd_core_utils.save_dict_to_yaml(general_configs, config_outpath)\n",
    "\n",
    "print(\"GENERAL CONFIGS\")\n",
    "print(general_configs)\n",
    "print(\"Saved to %s\"  % (config_outpath))"
   ]
  }
 ],
 "metadata": {
  "kernelspec": {
   "display_name": "Python 3",
   "language": "python",
   "name": "python3"
  },
  "language_info": {
   "codemirror_mode": {
    "name": "ipython",
    "version": 3
   },
   "file_extension": ".py",
   "mimetype": "text/x-python",
   "name": "python",
   "nbconvert_exporter": "python",
   "pygments_lexer": "ipython3",
   "version": "3.6.12"
  }
 },
 "nbformat": 4,
 "nbformat_minor": 5
}
