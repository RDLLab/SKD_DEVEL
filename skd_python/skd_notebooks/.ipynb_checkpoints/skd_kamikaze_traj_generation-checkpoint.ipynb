{
 "cells": [
  {
   "cell_type": "code",
   "execution_count": 1,
   "id": "3eaf56ce-3677-4e1e-aaef-1a607d52f1e2",
   "metadata": {},
   "outputs": [],
   "source": [
    "import sys, os\n",
    "from datetime import datetime\n",
    "# Setup\n",
    "skd_python_dir = os.path.dirname(os.getcwd())\n",
    "if(skd_python_dir not in sys.path):\n",
    "    sys.path.append(skd_python_dir)\n",
    "\n",
    "# Import local skd_libraries\n",
    "import skd_collision_tests.collision_environment.collision_env_utils as collision_env_utils\n",
    "import skd_collision_tests.collision_environment.collision_environment as collision_environment\n",
    "import skd_collision_tests.collision_environment.collision_experiments_loader as collision_loader\n",
    "import skd_collision_tests.collision_environment.collision_data_analyser as collision_data_analyser\n",
    "\n",
    "# Import skd core libraries\n",
    "import skd_core.skd_core_utils.skd_core_utils as skd_core_utils\n",
    "import skd_core.skd_core_generators.skd_kamikaze_traj_gen as skd_kamikaze_traj_gen\n",
    "import skd_core.skd_core_analysers.skd_kamikaze_data_analyser as skd_kamikaze_data_analyser\n"
   ]
  },
  {
   "cell_type": "markdown",
   "id": "cf670e76-15fb-4ab8-ae3a-781d65aa873e",
   "metadata": {},
   "source": [
    "### Using the Kamikaze Trajectory Generator\n",
    "\n",
    "**Usage:**\n",
    "To use the module, only the following 3 steps are needed:\n",
    "- Generate a kamikaze experiments configuration file\n",
    "- Execute experiments according to configuration file\n",
    "- Parse and analyse the data from the collision experiments' summary file\n"
   ]
  },
  {
   "cell_type": "code",
   "execution_count": 2,
   "id": "1d7d8989-e195-44e8-b881-60da39cf8da3",
   "metadata": {},
   "outputs": [
    {
     "name": "stdout",
     "output_type": "stream",
     "text": [
      "GENERATING CONFIG PATH\n",
      "KAMIKAZE CONFIGS GENERATED TO /home/jimy/SKD_DEVEL/skd_python/skd_notebooks/testing_output/experiments_config/kamikaze_traj_gen.yaml\n",
      "{'kamikaze_traj_configs': {'safe_traj_files': ['/home/jimy/SKD_DEVEL/skd_python/skd_trajectories/skd_trajectories_db/goal_20_safe_trajs.json'], 'attempts_per_goal': 2, 'controller_multipliers': [0.5, 1.0, 1.1], 'max_trajs_per_file': 2}}\n"
     ]
    }
   ],
   "source": [
    "# Example function to generate kamikaze traj generation experiments\n",
    "def generate_kamikaze_experiments_config():\n",
    "    # Set outpath for config file (Send it to ../config for now)\n",
    "\t# Set options for config file\n",
    "    config_outpath = os.getcwd() + \"/testing_output/experiments_config/kamikaze_traj_gen.yaml\"\n",
    "    controller_ids = [0.5, 1.0, 1.10]\n",
    "    # Safe trajectory filepaths to consider. If empty (GUI will ask user for files)\n",
    "    safe_traj_files = []\n",
    "    attemps_per_file = 2\n",
    "    max_traj_per_file = 2\n",
    "    skd_core_utils.generate_kamikaze_configs(config_outpath, controller_ids, attempts = attemps_per_file, trajs_per_file = max_traj_per_file)\n",
    "    \n",
    "    # Return config outpath\n",
    "    return config_outpath\n",
    "\n",
    "\n",
    "\n",
    "#### Generate example kamikaze traj gen from configuration file ######\n",
    "print(\"GENERATING CONFIG PATH\")\n",
    "planner_path = os.getenv(\"HOME\") + \"/jimy_ws/oppt/bin/abt\"\n",
    "config_filepath = generate_kamikaze_experiments_config(planner_path)"
   ]
  },
  {
   "cell_type": "markdown",
   "id": "65cf00f4-50bc-42e5-b3c7-18747f40b861",
   "metadata": {},
   "source": [
    "### Executing kamikaze trajectories from safe trajectory files"
   ]
  },
  {
   "cell_type": "code",
   "execution_count": 3,
   "id": "ae6f55e2-c65f-4c9b-a0cb-605bdb84c199",
   "metadata": {},
   "outputs": [
    {
     "name": "stdout",
     "output_type": "stream",
     "text": [
      "EXECUTING EXPERIMENTS ON CONFIG FILE\n",
      "{'kamikaze_traj_configs': {'attempts_per_goal': 2, 'controller_multipliers': [0.5, 1.0, 1.1], 'max_trajs_per_file': 2, 'safe_traj_files': ['/home/jimy/SKD_DEVEL/skd_python/skd_trajectories/skd_trajectories_db/goal_20_safe_trajs.json']}}\n"
     ]
    }
   ],
   "source": [
    "# Execute the kamikaze trajecoty experiments based on configuration file\n",
    "def execute_kamikaze_experiments(outputdir, kamikaze_config_filepath, planner_exec_path, generic_config_path):\n",
    "\t# Create a generator to serve all the options in the configuration file\n",
    "\tkamikaze_generator = skd_kamikaze_traj_gen.KamikazeTrajGenerator(kamikaze_config_filepath, outputdir)\n",
    "\tkamikaze_generator.execute_kamikaze_traj_gen_configs(planner_exec_path, generic_config_path)\n",
    "\n",
    "\treturn kamikaze_generator.get_experiments_summary_dir()\n",
    "\n",
    "\n",
    "#### Generate example kamikaze traj gen from configuration file ######\n",
    "planner_path = os.getenv(\"HOME\") + \"/jimy_ws/oppt/bin/abt\"\n",
    "generic_cfg_path = os.getenv(\"HOME\") + \"/SKD_DEVEL/skd_oppt/cfg/SKDBasicController/KamikazeTrajGen.cfg\"\n",
    "print(\"EXECUTING EXPERIMENTS ON CONFIG FILE\")\n",
    "experiments_outdir = os.getcwd() + \"/testing_output/testingKamikaze\"\n",
    "summary_file = execute_kamikaze_experiments(experiments_outdir, config_filepath, planner_path, generic_cfg_path)\n",
    "\n",
    "\n"
   ]
  },
  {
   "cell_type": "markdown",
   "id": "7421421f-059a-49cb-b84c-dcf80c14176f",
   "metadata": {},
   "source": [
    "### Analysing data from kamikaze trajectories experiments"
   ]
  },
  {
   "cell_type": "code",
   "execution_count": 4,
   "id": "bfdfc0d1-413a-4e75-b935-6e10dc52928a",
   "metadata": {},
   "outputs": [
    {
     "name": "stdout",
     "output_type": "stream",
     "text": [
      "Analysing experiments output data\n"
     ]
    },
    {
     "name": "stderr",
     "output_type": "stream",
     "text": [
      "/home/jimy/.local/lib/python3.6/site-packages/numpy/core/fromnumeric.py:3622: RuntimeWarning: Degrees of freedom <= 0 for slice\n",
      "  **kwargs)\n",
      "/home/jimy/.local/lib/python3.6/site-packages/numpy/core/_methods.py:226: RuntimeWarning: invalid value encountered in double_scalars\n",
      "  ret = ret.dtype.type(ret / rcount)\n",
      "/home/jimy/.local/lib/python3.6/site-packages/numpy/core/_methods.py:234: RuntimeWarning: Degrees of freedom <= 0 for slice\n",
      "  keepdims=keepdims)\n"
     ]
    }
   ],
   "source": [
    "## Example function to analyse output from kamikaze traj experiments\n",
    "def analyse_experimental_output(summary_file_path, outputdir):\n",
    "\tanalyser = skd_kamikaze_data_analyser.SKDKamikazeDataAnalyser(summary_file_path, outputdir)\n",
    "\tanalyser.parse_summary_data()\n",
    "\n",
    "    \n",
    "\n",
    "# Analyse kamikaze trajectory experiments\n",
    "print(\"Analysing experiments output data\")\n",
    "experiments_data_dir = os.getcwd() + \"/testingKamikazeData\"\n",
    "analyse_experimental_output(summary_file, experiments_data_dir)"
   ]
  }
 ],
 "metadata": {
  "kernelspec": {
   "display_name": "Python 3",
   "language": "python",
   "name": "python3"
  },
  "language_info": {
   "codemirror_mode": {
    "name": "ipython",
    "version": 3
   },
   "file_extension": ".py",
   "mimetype": "text/x-python",
   "name": "python",
   "nbconvert_exporter": "python",
   "pygments_lexer": "ipython3",
   "version": "3.6.12"
  }
 },
 "nbformat": 4,
 "nbformat_minor": 5
}
