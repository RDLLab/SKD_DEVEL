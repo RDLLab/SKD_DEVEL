{
 "cells": [
  {
   "cell_type": "code",
   "execution_count": 1,
   "id": "3eaf56ce-3677-4e1e-aaef-1a607d52f1e2",
   "metadata": {},
   "outputs": [
    {
     "ename": "ModuleNotFoundError",
     "evalue": "No module named 'sdk_core_utils'",
     "output_type": "error",
     "traceback": [
      "\u001b[0;31m---------------------------------------------------------------------------\u001b[0m",
      "\u001b[0;31mModuleNotFoundError\u001b[0m                       Traceback (most recent call last)",
      "\u001b[0;32m<ipython-input-1-f009eade4394>\u001b[0m in \u001b[0;36m<module>\u001b[0;34m()\u001b[0m\n\u001b[1;32m     14\u001b[0m \u001b[0;31m# Import skd core libraries\u001b[0m\u001b[0;34m\u001b[0m\u001b[0;34m\u001b[0m\u001b[0;34m\u001b[0m\u001b[0m\n\u001b[1;32m     15\u001b[0m \u001b[0;32mimport\u001b[0m \u001b[0mskd_core\u001b[0m\u001b[0;34m.\u001b[0m\u001b[0mskd_core_utils\u001b[0m\u001b[0;34m.\u001b[0m\u001b[0mskd_core_utils\u001b[0m \u001b[0;32mas\u001b[0m \u001b[0mskd_core_utils\u001b[0m\u001b[0;34m\u001b[0m\u001b[0;34m\u001b[0m\u001b[0m\n\u001b[0;32m---> 16\u001b[0;31m \u001b[0;32mimport\u001b[0m \u001b[0mskd_core\u001b[0m\u001b[0;34m.\u001b[0m\u001b[0mskd_core_generators\u001b[0m\u001b[0;34m.\u001b[0m\u001b[0mskd_safe_traj_gen\u001b[0m \u001b[0;32mas\u001b[0m \u001b[0mskd_safe_traj_gen\u001b[0m\u001b[0;34m\u001b[0m\u001b[0;34m\u001b[0m\u001b[0m\n\u001b[0m",
      "\u001b[0;32m/home/jimy/SKD_DEVEL/skd_python/skd_core/skd_core_generators/skd_safe_traj_gen.py\u001b[0m in \u001b[0;36m<module>\u001b[0;34m()\u001b[0m\n\u001b[1;32m     15\u001b[0m \u001b[0;34m\u001b[0m\u001b[0m\n\u001b[1;32m     16\u001b[0m \u001b[0;31m# Utils\u001b[0m\u001b[0;34m\u001b[0m\u001b[0;34m\u001b[0m\u001b[0;34m\u001b[0m\u001b[0m\n\u001b[0;32m---> 17\u001b[0;31m \u001b[0;32mimport\u001b[0m \u001b[0msdk_core_utils\u001b[0m\u001b[0;34m.\u001b[0m\u001b[0msdk_core_utils\u001b[0m \u001b[0;32mas\u001b[0m \u001b[0msdk_core_utils\u001b[0m\u001b[0;34m\u001b[0m\u001b[0;34m\u001b[0m\u001b[0m\n\u001b[0m\u001b[1;32m     18\u001b[0m \u001b[0;32mimport\u001b[0m \u001b[0mskd_core_analysers\u001b[0m\u001b[0;34m.\u001b[0m\u001b[0moppt_log_analyser\u001b[0m \u001b[0;32mas\u001b[0m \u001b[0moppt_log_analyser\u001b[0m\u001b[0;34m\u001b[0m\u001b[0;34m\u001b[0m\u001b[0m\n\u001b[1;32m     19\u001b[0m \u001b[0;34m\u001b[0m\u001b[0m\n",
      "\u001b[0;31mModuleNotFoundError\u001b[0m: No module named 'sdk_core_utils'"
     ]
    }
   ],
   "source": [
    "import sys, os\n",
    "from datetime import datetime\n",
    "# Setup\n",
    "skd_python_dir = os.path.dirname(os.getcwd())\n",
    "if(skd_python_dir not in sys.path):\n",
    "    sys.path.append(skd_python_dir)\n",
    "\n",
    "# Import local skd_libraries\n",
    "import skd_collision_tests.collision_environment.collision_env_utils as collision_env_utils\n",
    "import skd_collision_tests.collision_environment.collision_environment as collision_environment\n",
    "import skd_collision_tests.collision_environment.collision_experiments_loader as collision_loader\n",
    "import skd_collision_tests.collision_environment.collision_data_analyser as collision_data_analyser\n",
    "\n",
    "# Import skd core libraries\n",
    "import skd_core.skd_core_utils.skd_core_utils as skd_core_utils\n",
    "import skd_core.skd_core_generators.skd_safe_traj_gen as skd_safe_traj_gen\n"
   ]
  },
  {
   "cell_type": "markdown",
   "id": "cf670e76-15fb-4ab8-ae3a-781d65aa873e",
   "metadata": {},
   "source": [
    "### Using the Kamikaze Trajectory Generator\n",
    "\n",
    "**Usage:**\n",
    "To use the module, only the following 2 steps are needed:\n",
    "- Generate a safe experiments configuration file\n",
    "- Execute experiments according to configuration file"
   ]
  },
  {
   "cell_type": "markdown",
   "id": "823315d8-4771-45e8-8d57-4af4c3ad2f8c",
   "metadata": {},
   "source": [
    "**Generating a config file:**"
   ]
  },
  {
   "cell_type": "code",
   "execution_count": null,
   "id": "1d7d8989-e195-44e8-b881-60da39cf8da3",
   "metadata": {
    "tags": []
   },
   "outputs": [],
   "source": [
    "# Example function to generate safe traj generation experiments\n",
    "def generate_safe_experiments_config():\n",
    "    # Set outpath for config file (Send it to ../config for now)\n",
    "\t# Set options for config file\n",
    "    config_outpath = os.getcwd() + \"/testing_output/safe_traj_gen.yaml\"\n",
    "    # Set goal bounds in [longit_min, longit_max, hoz_min, hoz_max]\n",
    "    goal_bound1 = [119, 120, -4.75, -3.75]\n",
    "    goal_bound2 = [119.5, 121, -4, -3.5]\n",
    "    goal_bounds = [goal_bound1, goal_bound2]\n",
    "    # Number of attempts per goal bound\n",
    "    attempts = 3\n",
    "    # Initial state for safe traj file [ped_longit, ped_hoz, car_longit, car_hoz, car_speed, car_intention]\n",
    "    initial_state = [120, 3, 100, -2, 0, 3]\n",
    "    configs = skd_core_utils.get_safe_trajs_config(goal_bounds, initial_state, attempts)\n",
    "    # Save configs to outpath\n",
    "    skd_core_utils.save_dict_to_yaml(configs, config_outpath)\n",
    "    \n",
    "    # Return config outpath\n",
    "    return config_outpath\n",
    "\n",
    "\n",
    "\n",
    "#### Generate example kamikaze traj gen from configuration file ######\n",
    "print(\"GENERATING CONFIG PATH\")\n",
    "config_filepath = generate_safe_experiments_config()\n",
    "print(\"DONE\")"
   ]
  },
  {
   "cell_type": "markdown",
   "id": "dd0bc6a2-12eb-48af-9aa4-e4f8241c7f2f",
   "metadata": {},
   "source": [
    "**Executing config file**"
   ]
  },
  {
   "cell_type": "code",
   "execution_count": null,
   "id": "ca3f9216-6f34-42d1-95c3-05e111803051",
   "metadata": {},
   "outputs": [],
   "source": [
    "# Execute the kamikaze trajecoty experiments based on configuration file\n",
    "def execute_pomdp_safe_traj_experiments(outputdir, safe_config_filepath, planner_exec_path, generic_config_path):\n",
    "\t# Create a generator to serve all the options in the configuration file\n",
    "\tsafe_traj_generator = skd_safe_traj_gen.SafeTrajGenerator(safe_config_filepath, outputdir)\n",
    "\tsafe_traj_generator.generate_config_safe_trajectories(planner_exec_path, generic_config_path)\n",
    "\n",
    "\n",
    "\n",
    "#### Generate example kamikaze traj gen from configuration file ######\n",
    "planner_path = os.getenv(\"HOME\") + \"/jimy_ws/oppt/bin/abt\"\n",
    "generic_cfg_path = os.getenv(\"HOME\") + \"/SKD_DEVEL/skd_oppt/cfg/SKDBasicController/SafeTrajGen.cfg\"\n",
    "print(\"EXECUTING EXPERIMENTS ON CONFIG FILE\")\n",
    "experiments_outdir = os.getcwd() + \"/testing_output/testingSafe\"\n",
    "summary_file = execute_pomdp_safe_traj_experiments(experiments_outdir, config_filepath, planner_path, generic_cfg_path)\n",
    "\n"
   ]
  }
 ],
 "metadata": {
  "kernelspec": {
   "display_name": "Python 3",
   "language": "python",
   "name": "python3"
  },
  "language_info": {
   "codemirror_mode": {
    "name": "ipython",
    "version": 3
   },
   "file_extension": ".py",
   "mimetype": "text/x-python",
   "name": "python",
   "nbconvert_exporter": "python",
   "pygments_lexer": "ipython3",
   "version": "3.6.12"
  }
 },
 "nbformat": 4,
 "nbformat_minor": 5
}
