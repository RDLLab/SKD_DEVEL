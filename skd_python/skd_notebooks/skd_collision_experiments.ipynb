{
 "cells": [
  {
   "cell_type": "code",
   "execution_count": null,
   "id": "27f1f5a9-2691-4d1d-bfd3-2530896b6a15",
   "metadata": {},
   "outputs": [],
   "source": [
    "import sys, os\n",
    "from datetime import datetime\n",
    "# Setup\n",
    "skd_python_dir = os.path.dirname(os.getcwd())\n",
    "if(skd_python_dir not in sys.path):\n",
    "    sys.path.append(skd_python_dir)\n",
    "\n",
    "# Import local skd_libraries\n",
    "import skd_collision_tests.collision_environment.collision_env_utils as collision_env_utils\n",
    "import skd_collision_tests.collision_environment.collision_environment as collision_environment\n",
    "import skd_collision_tests.collision_environment.collision_experiments_loader as collision_loader\n",
    "import skd_collision_tests.collision_environment.collision_data_analyser as collision_data_analyser\n",
    "\n",
    "\n",
    "# Get a shared timestamtp\n",
    "timestamp = datetime.now().strftime(\"%m-%d-%H-%M-%S\")\n",
    "outdir_header = \"final_collision_experiments\"\n"
   ]
  },
  {
   "cell_type": "markdown",
   "id": "99cda567-8156-4106-9ffc-635d8788108c",
   "metadata": {},
   "source": [
    "### Using the Collision Test Environment\n",
    "The collision environment allows to quickly prototype and visualize the interactions of an implemented car controller against safe trajectories saved in a json file.\n",
    "See \"/skd_trajectories/skd_trajectories_db/\" for examples of the format.\n",
    "\n",
    "\n",
    "### Usage:\n",
    "To use the module, only the following 3 steps are needed:\n",
    "- Generate a collision experiments configuration file\n",
    "- Execute experiments according to configuration file\n",
    "- Parse and analyse the data from the collision experiments' summary file\n"
   ]
  },
  {
   "cell_type": "markdown",
   "id": "8b09e59d-f3ad-48c1-9b3f-dc75faf0c551",
   "metadata": {},
   "source": [
    "### Generate a config file, given an existing safe trajectory file in json"
   ]
  },
  {
   "cell_type": "code",
   "execution_count": null,
   "id": "33b8ac21-0e9b-4d5f-a535-248c02a2b4ef",
   "metadata": {},
   "outputs": [],
   "source": [
    "# Example function to generate collision_exp config\n",
    "def gen_collision_exp_config(output_dir):\n",
    "    output_path = output_dir + \"/collision_config.yaml\"\n",
    "    \n",
    "    # Set optional configurations\n",
    "    # Safe trajectory files to consider, if empty, then GUI will allow user to select\n",
    "    safe_files = []\n",
    "    # Controller ids in experiment\n",
    "    multiplier_ids=[0.5, 0.625]\n",
    "    # Number of collision experiments per safe trajectory\n",
    "    num_runs=50\n",
    "    # Maximum number of steps simulated per experiment\n",
    "    max_num_steps=25\n",
    "    # Maximum number of trajectories considered per safe trajectory file\n",
    "    max_trajs_per_file=-1\n",
    "    # Default controller behaviour type (\"basic\" only for now)\n",
    "    car_controller_type=\"basic\"\n",
    "    \n",
    "    collision_env_utils.gen_collision_experiments_config(output_path, safe_files, num_runs, max_num_steps, max_trajs_per_file,\n",
    "                                car_controller_type, multiplier_ids)\n",
    "    return output_path\n",
    "\n",
    "\n",
    "\n",
    "\n",
    "# Generate the configuration file\n",
    "outputdir = os.getcwd() + \"/testing_output/%s_%s\" % (outdir_header, timestamp) \n",
    "\n",
    "# Create unique output dir\n",
    "try:\n",
    "    os.makedirs(outputdir)\n",
    "except OSError as error:\n",
    "    print(error)\n",
    "\n",
    "config_filepath = gen_collision_exp_config(outputdir)"
   ]
  },
  {
   "cell_type": "markdown",
   "id": "bff37c1a-c094-45cb-92c7-8dc7fbcf3cf9",
   "metadata": {},
   "source": [
    "### Executing collision experiments from config file"
   ]
  },
  {
   "cell_type": "code",
   "execution_count": null,
   "id": "edc15167-b6cc-483a-9cb0-b47dc487340c",
   "metadata": {},
   "outputs": [],
   "source": [
    "#### Executing collision experiments from config file\n",
    "\n",
    "def run_collision_env(output_dir, config_file):\n",
    "    # Create a loader for the config file\n",
    "    experiments_loader = collision_loader.CollisionExperimentLoader(output_dir, config_file)\n",
    "\n",
    "    # Run experiments from the config file\n",
    "    experiments_loader.run_collision_experiments()\n",
    "\n",
    "    # Get collision summary stats\n",
    "    summary_filepath = experiments_loader.get_summary_file_path()\n",
    "\n",
    "    return summary_filepath\n",
    "\n",
    "\n",
    "# Execute experiments from config\n",
    "experiments_outdir = outputdir +  \"/controllers\" \n",
    "summary_outpath = run_collision_env(experiments_outdir, config_filepath)\n",
    "\n"
   ]
  },
  {
   "cell_type": "markdown",
   "id": "2c782fa6-74d7-4063-8ccd-7c2152a0d60d",
   "metadata": {},
   "source": [
    "### Analyse data from collision experiments from summary file"
   ]
  },
  {
   "cell_type": "code",
   "execution_count": null,
   "id": "a6d630f9-07c9-4e5e-85dd-b64dfc1d3463",
   "metadata": {},
   "outputs": [],
   "source": [
    "def get_collision_summary_stats(output_dir, summary_stats_file):\n",
    "\n",
    "    \"\"\" Create a collision experiment analyser \"\"\"\n",
    "    collision_analyser = collision_data_analyser.CollisionExperimentDataAnalyser(summary_stats_file, output_dir)\n",
    "\n",
    "    \"\"\" Parse the data and review it on output_dir \"\"\"\n",
    "    collision_analyser.get_analyzer_summary_statistics()\n",
    "    \n",
    "\n",
    "    \n",
    "# Parse results\n",
    "results_outdir = outputdir + \"/collision_experiments_data\"\n",
    "\n",
    "try:\n",
    "    os.makedirs(results_outdir)\n",
    "except OSError as error:\n",
    "    print(error)\n",
    "\n",
    "get_collision_summary_stats(results_outdir, summary_outpath)\n",
    "print(\"DONE\")\n"
   ]
  }
 ],
 "metadata": {
  "kernelspec": {
   "display_name": "Python 3",
   "language": "python",
   "name": "python3"
  },
  "language_info": {
   "codemirror_mode": {
    "name": "ipython",
    "version": 3
   },
   "file_extension": ".py",
   "mimetype": "text/x-python",
   "name": "python",
   "nbconvert_exporter": "python",
   "pygments_lexer": "ipython3",
   "version": "3.6.12"
  }
 },
 "nbformat": 4,
 "nbformat_minor": 5
}
