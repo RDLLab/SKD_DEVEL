{
 "cells": [
  {
   "cell_type": "code",
   "execution_count": 1,
   "id": "3eaf56ce-3677-4e1e-aaef-1a607d52f1e2",
   "metadata": {},
   "outputs": [],
   "source": [
    "import sys, os\n",
    "from datetime import datetime\n",
    "# Setup\n",
    "skd_python_dir = os.path.dirname(os.getcwd())\n",
    "if(skd_python_dir not in sys.path):\n",
    "    sys.path.append(skd_python_dir)\n",
    "\n",
    "# Import local skd_libraries\n",
    "import skd_collision_tests.collision_environment.collision_env_utils as collision_env_utils\n",
    "import skd_collision_tests.collision_environment.collision_environment as collision_environment\n",
    "import skd_collision_tests.collision_environment.collision_experiments_loader as collision_loader\n",
    "import skd_collision_tests.collision_environment.collision_data_analyser as collision_data_analyser\n",
    "\n",
    "# Import skd core libraries\n",
    "import skd_core.skd_core_utils.skd_core_utils as skd_core_utils\n",
    "import skd_core.skd_core_generators.skd_kamikaze_traj_gen as skd_kamikaze_traj_gen\n",
    "import skd_core.skd_core_analysers.skd_kamikaze_data_analyser as skd_kamikaze_data_analyser\n",
    "\n",
    "\n",
    "# Get a shared timestamtp\n",
    "timestamp = datetime.now().strftime(\"%m-%d-%H-%M-%S\")\n",
    "outdir_header = \"final_kamikaze_experiments\""
   ]
  },
  {
   "cell_type": "markdown",
   "id": "cf670e76-15fb-4ab8-ae3a-781d65aa873e",
   "metadata": {},
   "source": [
    "### Using the Kamikaze Trajectory Generator\n",
    "\n",
    "**Usage:**\n",
    "To use the module, only the following 3 steps are needed:\n",
    "- Generate a kamikaze experiments configuration file\n",
    "- Execute experiments according to configuration file\n",
    "- Parse and analyse the data from the collision experiments' summary file\n"
   ]
  },
  {
   "cell_type": "code",
   "execution_count": 2,
   "id": "1d7d8989-e195-44e8-b881-60da39cf8da3",
   "metadata": {},
   "outputs": [
    {
     "name": "stdout",
     "output_type": "stream",
     "text": [
      "Generating kamikaze trajectories experiments config file\n",
      "KAMIKAZE CONFIGS GENERATED TO /home/jimy/Desktop/skd_experiments/final_experiments/final_kamikaze_experiments_06-08-08-48-00/kamikaze_traj_gen.yaml\n",
      "{'safe_traj_files': ['/home/jimy/SKD_DEVEL/skd_python/skd_trajectories/skd_trajectories_db/traj_set_5.json'], 'attempts_per_goal': 20, 'controller_multipliers': [0.5, 0.625, 0.75, 0.875, 1, 1.05, 1.1, 1.125, 1.15], 'max_trajs_per_file': -1, 'kamikaze_cfg_file': '/home/jimy/SKD_DEVEL/skd_python/config/KamikazeTrajGen.cfg'}\n"
     ]
    }
   ],
   "source": [
    "# Example function to generate kamikaze traj generation experiments\n",
    "def generate_kamikaze_experiments_config(kamikaze_traj_gen_outdir):\n",
    "    # Set outpath for config file (Send it to ../config for now)\n",
    "    # Set options for config file\n",
    "    config_outpath = kamikaze_traj_gen_outdir + \"/kamikaze_traj_gen.yaml\"\n",
    "    \n",
    "    controller_ids = [0.5, 0.625, 0.75, 0.875, 1, 1.05, 1.1, 1.125, 1.15]\n",
    "    \n",
    "    # Path to the generic cfg file to template\n",
    "    generic_cfg_path = skd_python_dir + \"/config/KamikazeTrajGen.cfg\"\n",
    "    # Safe trajectory filepaths to consider. If empty (GUI will ask user for files)\n",
    "    attempts_per_file = 20\n",
    "    max_traj_per_file = -1\n",
    "    skd_core_utils.generate_kamikaze_configs(config_outpath, controller_ids, generic_cfg_path, \n",
    "             attempts = attempts_per_file, trajs_per_file = max_traj_per_file)\n",
    "    \n",
    "    # Return config outpath\n",
    "    return config_outpath\n",
    "\n",
    "\n",
    "#### Generate example kamikaze traj gen from configuration file ######\n",
    "print(\"Generating kamikaze trajectories experiments config file\")\n",
    "kamikaze_traj_gen_outdir = os.getenv(\"HOME\") + \"/Desktop/skd_experiments/final_experiments/%s_%s\" % (outdir_header, timestamp)\n",
    "\n",
    "# Create outdir\n",
    "try:\n",
    "    os.makedirs(kamikaze_traj_gen_outdir)\n",
    "except Exception as error:\n",
    "    pass\n",
    "\n",
    "config_filepath = generate_kamikaze_experiments_config(kamikaze_traj_gen_outdir)"
   ]
  },
  {
   "cell_type": "markdown",
   "id": "65cf00f4-50bc-42e5-b3c7-18747f40b861",
   "metadata": {},
   "source": [
    "### Executing kamikaze trajectories from safe trajectory files"
   ]
  },
  {
   "cell_type": "code",
   "execution_count": 3,
   "id": "ae6f55e2-c65f-4c9b-a0cb-605bdb84c199",
   "metadata": {},
   "outputs": [
    {
     "name": "stdout",
     "output_type": "stream",
     "text": [
      "Executing kamikaze trajectories experiments\n",
      "{'attempts_per_goal': 20, 'controller_multipliers': [0.5, 0.625, 0.75, 0.875, 1, 1.05, 1.1, 1.125, 1.15], 'kamikaze_cfg_file': '/home/jimy/SKD_DEVEL/skd_python/config/KamikazeTrajGen.cfg', 'max_trajs_per_file': -1, 'safe_traj_files': ['/home/jimy/SKD_DEVEL/skd_python/skd_trajectories/skd_trajectories_db/traj_set_5.json']}\n",
      "CAR USED:\n",
      "- Kappa = 13.502200\n",
      "- Multiplier = 1.000000\n",
      "- C * Kappa = 13.502200\n",
      "- CAR STOPPING_TIME = 2.380000\n",
      "- CAR_MAX_SPEED=8.330000\n",
      "- CAR_BRAKING_RATE=-3.500000\n",
      "- CAR_DIMS: length = %f, width = %f\n",
      "CAR USED:\n",
      "- Kappa = 13.502200\n",
      "- Multiplier = 1.000000\n",
      "- C * Kappa = 13.502200\n",
      "- CAR STOPPING_TIME = 2.380000\n",
      "- CAR_MAX_SPEED=8.330000\n",
      "- CAR_BRAKING_RATE=-3.500000\n",
      "- CAR_DIMS: length = %f, width = %f\n",
      "CAR USED:\n",
      "- Kappa = 13.502200\n",
      "- Multiplier = 1.000000\n",
      "- C * Kappa = 13.502200\n",
      "- CAR STOPPING_TIME = 2.380000\n",
      "- CAR_MAX_SPEED=8.330000\n",
      "- CAR_BRAKING_RATE=-3.500000\n",
      "- CAR_DIMS: length = %f, width = %f\n",
      "CAR USED:\n",
      "- Kappa = 13.502200\n",
      "- Multiplier = 1.000000\n",
      "- C * Kappa = 13.502200\n",
      "- CAR STOPPING_TIME = 2.380000\n",
      "- CAR_MAX_SPEED=8.330000\n",
      "- CAR_BRAKING_RATE=-3.500000\n",
      "- CAR_DIMS: length = %f, width = %f\n",
      "CAR USED:\n",
      "- Kappa = 13.502200\n",
      "- Multiplier = 1.000000\n",
      "- C * Kappa = 13.502200\n",
      "- CAR STOPPING_TIME = 2.380000\n",
      "- CAR_MAX_SPEED=8.330000\n",
      "- CAR_BRAKING_RATE=-3.500000\n",
      "- CAR_DIMS: length = %f, width = %f\n"
     ]
    },
    {
     "ename": "KeyboardInterrupt",
     "evalue": "",
     "output_type": "error",
     "traceback": [
      "\u001b[0;31m---------------------------------------------------------------------------\u001b[0m",
      "\u001b[0;31mKeyboardInterrupt\u001b[0m                         Traceback (most recent call last)",
      "\u001b[0;32m<ipython-input-3-d0b985baf60f>\u001b[0m in \u001b[0;36m<module>\u001b[0;34m()\u001b[0m\n\u001b[1;32m     11\u001b[0m \u001b[0mprint\u001b[0m\u001b[0;34m(\u001b[0m\u001b[0;34m\"Executing kamikaze trajectories experiments\"\u001b[0m\u001b[0;34m)\u001b[0m\u001b[0;34m\u001b[0m\u001b[0;34m\u001b[0m\u001b[0m\n\u001b[1;32m     12\u001b[0m \u001b[0mplanner_path\u001b[0m \u001b[0;34m=\u001b[0m \u001b[0mos\u001b[0m\u001b[0;34m.\u001b[0m\u001b[0mgetenv\u001b[0m\u001b[0;34m(\u001b[0m\u001b[0;34m\"HOME\"\u001b[0m\u001b[0;34m)\u001b[0m \u001b[0;34m+\u001b[0m \u001b[0;34m\"/jimy_ws/oppt/bin/abt\"\u001b[0m\u001b[0;34m\u001b[0m\u001b[0;34m\u001b[0m\u001b[0m\n\u001b[0;32m---> 13\u001b[0;31m \u001b[0msummary_file\u001b[0m \u001b[0;34m=\u001b[0m \u001b[0mexecute_kamikaze_experiments\u001b[0m\u001b[0;34m(\u001b[0m\u001b[0mkamikaze_traj_gen_outdir\u001b[0m\u001b[0;34m,\u001b[0m \u001b[0mconfig_filepath\u001b[0m\u001b[0;34m,\u001b[0m \u001b[0mplanner_path\u001b[0m\u001b[0;34m)\u001b[0m\u001b[0;34m\u001b[0m\u001b[0;34m\u001b[0m\u001b[0m\n\u001b[0m\u001b[1;32m     14\u001b[0m \u001b[0;34m\u001b[0m\u001b[0m\n",
      "\u001b[0;32m<ipython-input-3-d0b985baf60f>\u001b[0m in \u001b[0;36mexecute_kamikaze_experiments\u001b[0;34m(outputdir, kamikaze_config_filepath, planner_exec_path)\u001b[0m\n\u001b[1;32m      3\u001b[0m     \u001b[0;31m# Create a generator to serve all the options in the configuration file\u001b[0m\u001b[0;34m\u001b[0m\u001b[0;34m\u001b[0m\u001b[0;34m\u001b[0m\u001b[0m\n\u001b[1;32m      4\u001b[0m     \u001b[0mkamikaze_generator\u001b[0m \u001b[0;34m=\u001b[0m \u001b[0mskd_kamikaze_traj_gen\u001b[0m\u001b[0;34m.\u001b[0m\u001b[0mKamikazeTrajGenerator\u001b[0m\u001b[0;34m(\u001b[0m\u001b[0mkamikaze_config_filepath\u001b[0m\u001b[0;34m,\u001b[0m \u001b[0moutputdir\u001b[0m\u001b[0;34m)\u001b[0m\u001b[0;34m\u001b[0m\u001b[0;34m\u001b[0m\u001b[0m\n\u001b[0;32m----> 5\u001b[0;31m     \u001b[0mkamikaze_generator\u001b[0m\u001b[0;34m.\u001b[0m\u001b[0mexecute_kamikaze_traj_gen_configs\u001b[0m\u001b[0;34m(\u001b[0m\u001b[0mplanner_exec_path\u001b[0m\u001b[0;34m)\u001b[0m\u001b[0;34m\u001b[0m\u001b[0;34m\u001b[0m\u001b[0m\n\u001b[0m\u001b[1;32m      6\u001b[0m \u001b[0;34m\u001b[0m\u001b[0m\n\u001b[1;32m      7\u001b[0m     \u001b[0;32mreturn\u001b[0m \u001b[0mkamikaze_generator\u001b[0m\u001b[0;34m.\u001b[0m\u001b[0mget_experiments_summary_dir\u001b[0m\u001b[0;34m(\u001b[0m\u001b[0;34m)\u001b[0m\u001b[0;34m\u001b[0m\u001b[0;34m\u001b[0m\u001b[0m\n",
      "\u001b[0;32m/home/jimy/SKD_DEVEL/skd_python/skd_core/skd_core_generators/skd_kamikaze_traj_gen.py\u001b[0m in \u001b[0;36mexecute_kamikaze_traj_gen_configs\u001b[0;34m(self, planner_executable_path)\u001b[0m\n\u001b[1;32m    109\u001b[0m \u001b[0;34m\u001b[0m\u001b[0m\n\u001b[1;32m    110\u001b[0m \t\t\t\tsafe_traj_file_summary = self.get_safe_traj_file_summary(controller_multiplier, \n\u001b[0;32m--> 111\u001b[0;31m \t\t\t\t\t\t\t\t\t\tsafe_traj_filename, planner_executable_path)\n\u001b[0m\u001b[1;32m    112\u001b[0m \u001b[0;34m\u001b[0m\u001b[0m\n\u001b[1;32m    113\u001b[0m                                 \u001b[0;31m# Save summary of safe_traj_fileame\u001b[0m\u001b[0;34m\u001b[0m\u001b[0;34m\u001b[0m\u001b[0;34m\u001b[0m\u001b[0m\n",
      "\u001b[0;32m/home/jimy/SKD_DEVEL/skd_python/skd_core/skd_core_generators/skd_kamikaze_traj_gen.py\u001b[0m in \u001b[0;36mget_safe_traj_file_summary\u001b[0;34m(self, controller_multiplier, safe_traj_filename, planner_executable_path)\u001b[0m\n\u001b[1;32m    143\u001b[0m                         \u001b[0;31m# Need to change the stdoout and sterr of this\u001b[0m\u001b[0;34m\u001b[0m\u001b[0;34m\u001b[0m\u001b[0;34m\u001b[0m\u001b[0m\n\u001b[1;32m    144\u001b[0m \t\t\tresult = subprocess.run([planner_executable_path, \"--cfg\", planner_config], \n\u001b[0;32m--> 145\u001b[0;31m \t\t\t\tstdout=subprocess.PIPE, stderr=subprocess.PIPE)\n\u001b[0m\u001b[1;32m    146\u001b[0m \u001b[0;34m\u001b[0m\u001b[0m\n\u001b[1;32m    147\u001b[0m                         \u001b[0;31m# Store the result of each of the dirs\u001b[0m\u001b[0;34m\u001b[0m\u001b[0;34m\u001b[0m\u001b[0;34m\u001b[0m\u001b[0m\n",
      "\u001b[0;32m/home/jimy/anaconda2/envs/skd_conda/lib/python3.6/subprocess.py\u001b[0m in \u001b[0;36mrun\u001b[0;34m(input, timeout, check, *popenargs, **kwargs)\u001b[0m\n\u001b[1;32m    423\u001b[0m     \u001b[0;32mwith\u001b[0m \u001b[0mPopen\u001b[0m\u001b[0;34m(\u001b[0m\u001b[0;34m*\u001b[0m\u001b[0mpopenargs\u001b[0m\u001b[0;34m,\u001b[0m \u001b[0;34m**\u001b[0m\u001b[0mkwargs\u001b[0m\u001b[0;34m)\u001b[0m \u001b[0;32mas\u001b[0m \u001b[0mprocess\u001b[0m\u001b[0;34m:\u001b[0m\u001b[0;34m\u001b[0m\u001b[0;34m\u001b[0m\u001b[0m\n\u001b[1;32m    424\u001b[0m         \u001b[0;32mtry\u001b[0m\u001b[0;34m:\u001b[0m\u001b[0;34m\u001b[0m\u001b[0;34m\u001b[0m\u001b[0m\n\u001b[0;32m--> 425\u001b[0;31m             \u001b[0mstdout\u001b[0m\u001b[0;34m,\u001b[0m \u001b[0mstderr\u001b[0m \u001b[0;34m=\u001b[0m \u001b[0mprocess\u001b[0m\u001b[0;34m.\u001b[0m\u001b[0mcommunicate\u001b[0m\u001b[0;34m(\u001b[0m\u001b[0minput\u001b[0m\u001b[0;34m,\u001b[0m \u001b[0mtimeout\u001b[0m\u001b[0;34m=\u001b[0m\u001b[0mtimeout\u001b[0m\u001b[0;34m)\u001b[0m\u001b[0;34m\u001b[0m\u001b[0;34m\u001b[0m\u001b[0m\n\u001b[0m\u001b[1;32m    426\u001b[0m         \u001b[0;32mexcept\u001b[0m \u001b[0mTimeoutExpired\u001b[0m\u001b[0;34m:\u001b[0m\u001b[0;34m\u001b[0m\u001b[0;34m\u001b[0m\u001b[0m\n\u001b[1;32m    427\u001b[0m             \u001b[0mprocess\u001b[0m\u001b[0;34m.\u001b[0m\u001b[0mkill\u001b[0m\u001b[0;34m(\u001b[0m\u001b[0;34m)\u001b[0m\u001b[0;34m\u001b[0m\u001b[0;34m\u001b[0m\u001b[0m\n",
      "\u001b[0;32m/home/jimy/anaconda2/envs/skd_conda/lib/python3.6/subprocess.py\u001b[0m in \u001b[0;36mcommunicate\u001b[0;34m(self, input, timeout)\u001b[0m\n\u001b[1;32m    861\u001b[0m \u001b[0;34m\u001b[0m\u001b[0m\n\u001b[1;32m    862\u001b[0m             \u001b[0;32mtry\u001b[0m\u001b[0;34m:\u001b[0m\u001b[0;34m\u001b[0m\u001b[0;34m\u001b[0m\u001b[0m\n\u001b[0;32m--> 863\u001b[0;31m                 \u001b[0mstdout\u001b[0m\u001b[0;34m,\u001b[0m \u001b[0mstderr\u001b[0m \u001b[0;34m=\u001b[0m \u001b[0mself\u001b[0m\u001b[0;34m.\u001b[0m\u001b[0m_communicate\u001b[0m\u001b[0;34m(\u001b[0m\u001b[0minput\u001b[0m\u001b[0;34m,\u001b[0m \u001b[0mendtime\u001b[0m\u001b[0;34m,\u001b[0m \u001b[0mtimeout\u001b[0m\u001b[0;34m)\u001b[0m\u001b[0;34m\u001b[0m\u001b[0;34m\u001b[0m\u001b[0m\n\u001b[0m\u001b[1;32m    864\u001b[0m             \u001b[0;32mfinally\u001b[0m\u001b[0;34m:\u001b[0m\u001b[0;34m\u001b[0m\u001b[0;34m\u001b[0m\u001b[0m\n\u001b[1;32m    865\u001b[0m                 \u001b[0mself\u001b[0m\u001b[0;34m.\u001b[0m\u001b[0m_communication_started\u001b[0m \u001b[0;34m=\u001b[0m \u001b[0;32mTrue\u001b[0m\u001b[0;34m\u001b[0m\u001b[0;34m\u001b[0m\u001b[0m\n",
      "\u001b[0;32m/home/jimy/anaconda2/envs/skd_conda/lib/python3.6/subprocess.py\u001b[0m in \u001b[0;36m_communicate\u001b[0;34m(self, input, endtime, orig_timeout)\u001b[0m\n\u001b[1;32m   1532\u001b[0m                         \u001b[0;32mraise\u001b[0m \u001b[0mTimeoutExpired\u001b[0m\u001b[0;34m(\u001b[0m\u001b[0mself\u001b[0m\u001b[0;34m.\u001b[0m\u001b[0margs\u001b[0m\u001b[0;34m,\u001b[0m \u001b[0morig_timeout\u001b[0m\u001b[0;34m)\u001b[0m\u001b[0;34m\u001b[0m\u001b[0;34m\u001b[0m\u001b[0m\n\u001b[1;32m   1533\u001b[0m \u001b[0;34m\u001b[0m\u001b[0m\n\u001b[0;32m-> 1534\u001b[0;31m                     \u001b[0mready\u001b[0m \u001b[0;34m=\u001b[0m \u001b[0mselector\u001b[0m\u001b[0;34m.\u001b[0m\u001b[0mselect\u001b[0m\u001b[0;34m(\u001b[0m\u001b[0mtimeout\u001b[0m\u001b[0;34m)\u001b[0m\u001b[0;34m\u001b[0m\u001b[0;34m\u001b[0m\u001b[0m\n\u001b[0m\u001b[1;32m   1535\u001b[0m                     \u001b[0mself\u001b[0m\u001b[0;34m.\u001b[0m\u001b[0m_check_timeout\u001b[0m\u001b[0;34m(\u001b[0m\u001b[0mendtime\u001b[0m\u001b[0;34m,\u001b[0m \u001b[0morig_timeout\u001b[0m\u001b[0;34m)\u001b[0m\u001b[0;34m\u001b[0m\u001b[0;34m\u001b[0m\u001b[0m\n\u001b[1;32m   1536\u001b[0m \u001b[0;34m\u001b[0m\u001b[0m\n",
      "\u001b[0;32m/home/jimy/anaconda2/envs/skd_conda/lib/python3.6/selectors.py\u001b[0m in \u001b[0;36mselect\u001b[0;34m(self, timeout)\u001b[0m\n\u001b[1;32m    374\u001b[0m             \u001b[0mready\u001b[0m \u001b[0;34m=\u001b[0m \u001b[0;34m[\u001b[0m\u001b[0;34m]\u001b[0m\u001b[0;34m\u001b[0m\u001b[0;34m\u001b[0m\u001b[0m\n\u001b[1;32m    375\u001b[0m             \u001b[0;32mtry\u001b[0m\u001b[0;34m:\u001b[0m\u001b[0;34m\u001b[0m\u001b[0;34m\u001b[0m\u001b[0m\n\u001b[0;32m--> 376\u001b[0;31m                 \u001b[0mfd_event_list\u001b[0m \u001b[0;34m=\u001b[0m \u001b[0mself\u001b[0m\u001b[0;34m.\u001b[0m\u001b[0m_poll\u001b[0m\u001b[0;34m.\u001b[0m\u001b[0mpoll\u001b[0m\u001b[0;34m(\u001b[0m\u001b[0mtimeout\u001b[0m\u001b[0;34m)\u001b[0m\u001b[0;34m\u001b[0m\u001b[0;34m\u001b[0m\u001b[0m\n\u001b[0m\u001b[1;32m    377\u001b[0m             \u001b[0;32mexcept\u001b[0m \u001b[0mInterruptedError\u001b[0m\u001b[0;34m:\u001b[0m\u001b[0;34m\u001b[0m\u001b[0;34m\u001b[0m\u001b[0m\n\u001b[1;32m    378\u001b[0m                 \u001b[0;32mreturn\u001b[0m \u001b[0mready\u001b[0m\u001b[0;34m\u001b[0m\u001b[0;34m\u001b[0m\u001b[0m\n",
      "\u001b[0;31mKeyboardInterrupt\u001b[0m: "
     ]
    }
   ],
   "source": [
    "# Execute the kamikaze trajecoty experiments based on configuration file\n",
    "def execute_kamikaze_experiments(outputdir, kamikaze_config_filepath, planner_exec_path):\n",
    "    # Create a generator to serve all the options in the configuration file\n",
    "    kamikaze_generator = skd_kamikaze_traj_gen.KamikazeTrajGenerator(kamikaze_config_filepath, outputdir)\n",
    "    kamikaze_generator.execute_kamikaze_traj_gen_configs(planner_exec_path)\n",
    "\n",
    "    return kamikaze_generator.get_experiments_summary_dir()\n",
    "\n",
    "\n",
    "# Execute experiments\n",
    "print(\"Executing kamikaze trajectories experiments\")\n",
    "planner_path = os.getenv(\"HOME\") + \"/jimy_ws/oppt/bin/abt\"\n",
    "summary_file = execute_kamikaze_experiments(kamikaze_traj_gen_outdir, config_filepath, planner_path)\n",
    "\n"
   ]
  },
  {
   "cell_type": "markdown",
   "id": "7421421f-059a-49cb-b84c-dcf80c14176f",
   "metadata": {},
   "source": [
    "### Analysing data from kamikaze trajectories experiments"
   ]
  },
  {
   "cell_type": "code",
   "execution_count": null,
   "id": "bfdfc0d1-413a-4e75-b935-6e10dc52928a",
   "metadata": {},
   "outputs": [],
   "source": [
    "## Example function to analyse output from kamikaze traj experiments\n",
    "def analyse_experimental_output(summary_file_path, outputdir):\n",
    "    analyser = skd_kamikaze_data_analyser.SKDKamikazeDataAnalyser(summary_file_path, outputdir)\n",
    "    analyser.parse_summary_data()\n",
    "    \n",
    "\n",
    "# Analyse kamikaze trajectory experiments\n",
    "# Analyse data\n",
    "print(\"Processing kamikaze trajectory generation results\")\n",
    "analyse_experimental_output(summary_file, kamikaze_traj_gen_outdir)\n"
   ]
  }
 ],
 "metadata": {
  "kernelspec": {
   "display_name": "Python 3",
   "language": "python",
   "name": "python3"
  },
  "language_info": {
   "codemirror_mode": {
    "name": "ipython",
    "version": 3
   },
   "file_extension": ".py",
   "mimetype": "text/x-python",
   "name": "python",
   "nbconvert_exporter": "python",
   "pygments_lexer": "ipython3",
   "version": "3.6.12"
  }
 },
 "nbformat": 4,
 "nbformat_minor": 5
}
