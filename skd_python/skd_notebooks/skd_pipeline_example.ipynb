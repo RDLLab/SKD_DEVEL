{
 "cells": [
  {
   "cell_type": "markdown",
   "metadata": {},
   "source": [
    "# SKD Pipeline Example"
   ]
  },
  {
   "cell_type": "code",
   "execution_count": 1,
   "metadata": {},
   "outputs": [],
   "source": [
    "import sys, os\n",
    "from datetime import datetime\n",
    "# Setup\n",
    "skd_python_dir = os.path.dirname(os.getcwd())\n",
    "if(skd_python_dir not in sys.path):\n",
    "    sys.path.append(skd_python_dir)\n",
    "\n",
    "# Import local skd_libraries\n",
    "import skd_collision_tests.collision_environment.collision_env_utils as collision_env_utils\n",
    "import skd_collision_tests.collision_environment.collision_environment as collision_environment\n",
    "import skd_collision_tests.collision_environment.collision_experiments_loader as collision_loader\n",
    "import skd_collision_tests.collision_environment.collision_data_analyser as collision_data_analyser\n",
    "\n",
    "# Import skd core libraries\n",
    "import skd_core.skd_core_utils.skd_core_utils as skd_core_utils\n",
    "import skd_core.skd_core_generators.skd_kamikaze_traj_gen as skd_kamikaze_traj_gen\n",
    "import skd_core.skd_core_analysers.skd_kamikaze_data_analyser as skd_kamikaze_data_analyser"
   ]
  },
  {
   "cell_type": "markdown",
   "metadata": {},
   "source": [
    "### Collision Environment Pipeline"
   ]
  },
  {
   "cell_type": "code",
   "execution_count": 2,
   "metadata": {},
   "outputs": [],
   "source": [
    "# Example function to generate collision_exp config\n",
    "def gen_collision_exp_config(output_dir):\n",
    "    output_path = output_dir + \"/collision_config.yaml\"\n",
    "    \n",
    "    # Set optional configurations\n",
    "    # Safe trajectory files to consider, if empty, then GUI will allow user to select\n",
    "    safe_files = []\n",
    "    # Controller ids in experiment\n",
    "    multiplier_ids= [0.5, 0.625, 0.75]\n",
    "    # Number of collision experiments per safe trajectory\n",
    "    num_runs=10\n",
    "    # Maximum number of steps simulated per experiment\n",
    "    max_num_steps=25\n",
    "    # Maximum number of trajectories considered per safe trajectory file\n",
    "    max_trajs_per_file=-1\n",
    "    # Default controller behaviour type (\"basic\" only for now)\n",
    "    car_controller_type=\"basic\"\n",
    "    \n",
    "    collision_env_utils.gen_collision_experiments_config(output_path, safe_files, num_runs, max_num_steps, max_trajs_per_file,\n",
    "                                car_controller_type, multiplier_ids)\n",
    "    return output_path\n",
    "\n",
    "\n",
    "\n",
    "def run_collision_env(output_dir, config_file):\n",
    "    # Create a loader for the config file\n",
    "    experiments_loader = collision_loader.CollisionExperimentLoader(output_dir, config_file)\n",
    "\n",
    "    # Run experiments from the config file\n",
    "    experiments_loader.run_collision_experiments()\n",
    "\n",
    "    # Get collision summary stats\n",
    "    summary_filepath = experiments_loader.get_summary_file_path()\n",
    "\n",
    "    return summary_filepath\n",
    "\n",
    "\n",
    "def get_collision_summary_stats(output_dir, summary_stats_file):\n",
    "\n",
    "    \"\"\" Create a collision experiment analyser \"\"\"\n",
    "    collision_analyser = collision_data_analyser.CollisionExperimentDataAnalyser(summary_stats_file, output_dir)\n",
    "\n",
    "    \"\"\" Parse the data and review it on output_dir \"\"\"\n",
    "    collision_analyser.get_analyzer_summary_statistics()\n",
    "\n",
    "\n",
    "\n",
    "def run_test_collision_experiments(collisions_outputdir):\n",
    "    \"\"\" Excutes all three steps of the collision experiments pipeline.\n",
    "    1. Gen collision experiments config\n",
    "    2. Execute collision experiments\n",
    "    3. Parse collision experiments results \n",
    "    \"\"\"\n",
    "    print(\"Generating collision config file\")\n",
    "    config_filepath = gen_collision_exp_config(collisions_outputdir)\n",
    "    print(\"Executing collision experiments from config file\")\n",
    "    summary_outpath = run_collision_env(collisions_outputdir, config_filepath)\n",
    "    print(\"Analysing collision data\")\n",
    "    get_collision_summary_stats(collisions_outputdir, summary_outpath)"
   ]
  },
  {
   "cell_type": "markdown",
   "metadata": {},
   "source": [
    "### Kamikaze Generation Pipeline functions"
   ]
  },
  {
   "cell_type": "code",
   "execution_count": 3,
   "metadata": {},
   "outputs": [],
   "source": [
    "#################################################### Pipeline for kamikaze experiments generation ####################################\n",
    "# Example function to generate kamikaze traj generation experiments\n",
    "def generate_kamikaze_experiments_config(kamikaze_traj_gen_outdir):\n",
    "    # Set outpath for config file (Send it to ../config for now)\n",
    "    # Set options for config file\n",
    "    config_outpath = kamikaze_traj_gen_outdir + \"/kamikaze_traj_gen.yaml\"\n",
    "    controller_ids = [0.5, 0.625, 0.75]\n",
    "    # Safe trajectory filepaths to consider. If empty (GUI will ask user for files)\n",
    "    safe_traj_files = []\n",
    "    attempts_per_file = 5\n",
    "    max_traj_per_file = 5\n",
    "    skd_core_utils.generate_kamikaze_configs(config_outpath, controller_ids, attempts = attempts_per_file, trajs_per_file = max_traj_per_file)\n",
    "    \n",
    "    # Return config outpath\n",
    "    return config_outpath\n",
    "\n",
    "\n",
    "\n",
    "# Execute the kamikaze trajecoty experiments based on configuration file\n",
    "def execute_kamikaze_experiments(outputdir, kamikaze_config_filepath, planner_exec_path, generic_config_path):\n",
    "    # Create a generator to serve all the options in the configuration file\n",
    "    kamikaze_generator = skd_kamikaze_traj_gen.KamikazeTrajGenerator(kamikaze_config_filepath, outputdir)\n",
    "    kamikaze_generator.execute_kamikaze_traj_gen_configs(planner_exec_path, generic_config_path)\n",
    "\n",
    "    return kamikaze_generator.get_experiments_summary_dir()\n",
    "\n",
    "\n",
    "\n",
    "## Example function to analyse output from kamikaze traj experiments\n",
    "def analyse_experimental_output(summary_file_path, outputdir):\n",
    "    analyser = skd_kamikaze_data_analyser.SKDKamikazeDataAnalyser(summary_file_path, outputdir)\n",
    "    analyser.parse_summary_data()\n",
    "\n",
    "\n",
    "\n",
    "\n",
    "def run_kamikaze_traj_gen_stats(kamikaze_traj_gen_outdir, planner_path, generic_config_path):\n",
    "    # Generate configuration file for experiments\n",
    "    print(\"Generating kamikaze trajectories experiments config file\")\n",
    "    config_filepath = generate_kamikaze_experiments_config(kamikaze_traj_gen_outdir)\n",
    "\n",
    "    # Execute experiments\n",
    "    print(\"Executing kamikaze trajectories experiments\")\n",
    "    summary_file = execute_kamikaze_experiments(kamikaze_traj_gen_outdir, config_filepath, planner_path, generic_config_path)\n",
    "\n",
    "    # Analyse data\n",
    "    print(\"Processing kamikaze trajectory generation results\")\n",
    "    analyse_experimental_output(summary_file, kamikaze_traj_gen_outdir)\n"
   ]
  },
  {
   "cell_type": "markdown",
   "metadata": {},
   "source": [
    "### Run pipeline"
   ]
  },
  {
   "cell_type": "code",
   "execution_count": 4,
   "metadata": {},
   "outputs": [
    {
     "name": "stdout",
     "output_type": "stream",
     "text": [
      "Generating collision config file\n",
      "{'multiplier_ids': [0.5, 0.625, 0.75], 'car_controller_type': 'basic', 'num_runs': 10, 'max_num_steps': 25, 'safe_trajectory_files': ['/home/jimy/SKD_DEVEL/skd_python/skd_trajectories/skd_trajectories_db/final_experiments_trajectories.json'], 'max_trajs_per_file': -1}\n",
      "Executing collision experiments from config file\n",
      "{'car_controller_type': 'basic', 'max_num_steps': 25, 'max_trajs_per_file': -1, 'multiplier_ids': [0.5, 0.625, 0.75], 'num_runs': 10, 'safe_trajectory_files': ['/home/jimy/SKD_DEVEL/skd_python/skd_trajectories/skd_trajectories_db/final_experiments_trajectories.json']}\n",
      "[Errno 17] File exists: '/home/jimy/SKD_DEVEL/skd_python/skd_notebooks/testing_output/PIPE_06-16-10-23-34'\n",
      "Analysing collision data\n"
     ]
    },
    {
     "name": "stderr",
     "output_type": "stream",
     "text": [
      "/home/jimy/anaconda2/envs/skd_conda/lib/python3.6/site-packages/scipy/stats/_distn_infrastructure.py:2023: RuntimeWarning: invalid value encountered in multiply\n",
      "  lower_bound = _a * scale + loc\n",
      "/home/jimy/anaconda2/envs/skd_conda/lib/python3.6/site-packages/scipy/stats/_distn_infrastructure.py:2024: RuntimeWarning: invalid value encountered in multiply\n",
      "  upper_bound = _b * scale + loc\n"
     ]
    },
    {
     "name": "stdout",
     "output_type": "stream",
     "text": [
      "Generating kamikaze trajectories experiments config file\n"
     ]
    },
    {
     "ename": "TypeError",
     "evalue": "generate_kamikaze_configs() missing 1 required positional argument: 'cfg_template_path'",
     "output_type": "error",
     "traceback": [
      "\u001b[0;31m---------------------------------------------------------------------------\u001b[0m",
      "\u001b[0;31mTypeError\u001b[0m                                 Traceback (most recent call last)",
      "\u001b[0;32m<ipython-input-4-511697bab027>\u001b[0m in \u001b[0;36m<module>\u001b[0;34m()\u001b[0m\n\u001b[1;32m     13\u001b[0m \u001b[0;34m\u001b[0m\u001b[0m\n\u001b[1;32m     14\u001b[0m \u001b[0;31m# Run kamikaze trajectory experiments\u001b[0m\u001b[0;34m\u001b[0m\u001b[0;34m\u001b[0m\u001b[0;34m\u001b[0m\u001b[0m\n\u001b[0;32m---> 15\u001b[0;31m \u001b[0mrun_kamikaze_traj_gen_stats\u001b[0m\u001b[0;34m(\u001b[0m\u001b[0mmodule_outdir\u001b[0m\u001b[0;34m,\u001b[0m \u001b[0mplanner_path\u001b[0m\u001b[0;34m,\u001b[0m \u001b[0mgeneric_cfg_path\u001b[0m\u001b[0;34m)\u001b[0m\u001b[0;34m\u001b[0m\u001b[0;34m\u001b[0m\u001b[0m\n\u001b[0m",
      "\u001b[0;32m<ipython-input-3-8db38cd54296>\u001b[0m in \u001b[0;36mrun_kamikaze_traj_gen_stats\u001b[0;34m(kamikaze_traj_gen_outdir, planner_path, generic_config_path)\u001b[0m\n\u001b[1;32m     38\u001b[0m     \u001b[0;31m# Generate configuration file for experiments\u001b[0m\u001b[0;34m\u001b[0m\u001b[0;34m\u001b[0m\u001b[0;34m\u001b[0m\u001b[0m\n\u001b[1;32m     39\u001b[0m     \u001b[0mprint\u001b[0m\u001b[0;34m(\u001b[0m\u001b[0;34m\"Generating kamikaze trajectories experiments config file\"\u001b[0m\u001b[0;34m)\u001b[0m\u001b[0;34m\u001b[0m\u001b[0;34m\u001b[0m\u001b[0m\n\u001b[0;32m---> 40\u001b[0;31m     \u001b[0mconfig_filepath\u001b[0m \u001b[0;34m=\u001b[0m \u001b[0mgenerate_kamikaze_experiments_config\u001b[0m\u001b[0;34m(\u001b[0m\u001b[0mkamikaze_traj_gen_outdir\u001b[0m\u001b[0;34m)\u001b[0m\u001b[0;34m\u001b[0m\u001b[0;34m\u001b[0m\u001b[0m\n\u001b[0m\u001b[1;32m     41\u001b[0m \u001b[0;34m\u001b[0m\u001b[0m\n\u001b[1;32m     42\u001b[0m     \u001b[0;31m# Execute experiments\u001b[0m\u001b[0;34m\u001b[0m\u001b[0;34m\u001b[0m\u001b[0;34m\u001b[0m\u001b[0m\n",
      "\u001b[0;32m<ipython-input-3-8db38cd54296>\u001b[0m in \u001b[0;36mgenerate_kamikaze_experiments_config\u001b[0;34m(kamikaze_traj_gen_outdir)\u001b[0m\n\u001b[1;32m     10\u001b[0m     \u001b[0mattempts_per_file\u001b[0m \u001b[0;34m=\u001b[0m \u001b[0;36m5\u001b[0m\u001b[0;34m\u001b[0m\u001b[0;34m\u001b[0m\u001b[0m\n\u001b[1;32m     11\u001b[0m     \u001b[0mmax_traj_per_file\u001b[0m \u001b[0;34m=\u001b[0m \u001b[0;36m5\u001b[0m\u001b[0;34m\u001b[0m\u001b[0;34m\u001b[0m\u001b[0m\n\u001b[0;32m---> 12\u001b[0;31m     \u001b[0mskd_core_utils\u001b[0m\u001b[0;34m.\u001b[0m\u001b[0mgenerate_kamikaze_configs\u001b[0m\u001b[0;34m(\u001b[0m\u001b[0mconfig_outpath\u001b[0m\u001b[0;34m,\u001b[0m \u001b[0mcontroller_ids\u001b[0m\u001b[0;34m,\u001b[0m \u001b[0mattempts\u001b[0m \u001b[0;34m=\u001b[0m \u001b[0mattempts_per_file\u001b[0m\u001b[0;34m,\u001b[0m \u001b[0mtrajs_per_file\u001b[0m \u001b[0;34m=\u001b[0m \u001b[0mmax_traj_per_file\u001b[0m\u001b[0;34m)\u001b[0m\u001b[0;34m\u001b[0m\u001b[0;34m\u001b[0m\u001b[0m\n\u001b[0m\u001b[1;32m     13\u001b[0m \u001b[0;34m\u001b[0m\u001b[0m\n\u001b[1;32m     14\u001b[0m     \u001b[0;31m# Return config outpath\u001b[0m\u001b[0;34m\u001b[0m\u001b[0;34m\u001b[0m\u001b[0;34m\u001b[0m\u001b[0m\n",
      "\u001b[0;31mTypeError\u001b[0m: generate_kamikaze_configs() missing 1 required positional argument: 'cfg_template_path'"
     ]
    }
   ],
   "source": [
    "# Setup\n",
    "# Run kamikaze trajetory generation experiments\n",
    "planner_path = os.getenv(\"HOME\") + \"/SKD_DEVEL/opptv5/bin/abt\"\n",
    "generic_cfg_path = os.getenv(\"HOME\") + \"/SKD_DEVEL/skd_python/config/KamikazeTrajGen.cfg\"\n",
    "# Get timestampt\n",
    "timestamp = datetime.now().strftime(\"%m-%d-%H-%M-%S\")\n",
    "module_outdir = os.getcwd() + \"/testing_output/PIPE_%s\" % (timestamp)\n",
    "\n",
    "\n",
    "# Run collision pipeline\n",
    "run_test_collision_experiments(module_outdir)\n",
    "\n",
    "\n",
    "# Run kamikaze trajectory experiments\n",
    "run_kamikaze_traj_gen_stats(module_outdir, planner_path, generic_cfg_path)"
   ]
  }
 ],
 "metadata": {
  "kernelspec": {
   "display_name": "Python 3",
   "language": "python",
   "name": "python3"
  },
  "language_info": {
   "codemirror_mode": {
    "name": "ipython",
    "version": 3
   },
   "file_extension": ".py",
   "mimetype": "text/x-python",
   "name": "python",
   "nbconvert_exporter": "python",
   "pygments_lexer": "ipython3",
   "version": "3.6.12"
  }
 },
 "nbformat": 4,
 "nbformat_minor": 4
}
