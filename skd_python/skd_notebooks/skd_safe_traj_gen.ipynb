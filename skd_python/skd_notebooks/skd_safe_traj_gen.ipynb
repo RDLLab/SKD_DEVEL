{
 "cells": [
  {
   "cell_type": "code",
   "execution_count": 1,
   "id": "3eaf56ce-3677-4e1e-aaef-1a607d52f1e2",
   "metadata": {},
   "outputs": [],
   "source": [
    "import sys, os\n",
    "from datetime import datetime\n",
    "# Setup\n",
    "skd_python_dir = os.path.dirname(os.getcwd())\n",
    "if(skd_python_dir not in sys.path):\n",
    "    sys.path.append(skd_python_dir)\n",
    "\n",
    "# Import local skd_libraries\n",
    "import skd_collision_tests.collision_environment.collision_env_utils as collision_env_utils\n",
    "import skd_collision_tests.collision_environment.collision_environment as collision_environment\n",
    "import skd_collision_tests.collision_environment.collision_experiments_loader as collision_loader\n",
    "import skd_collision_tests.collision_environment.collision_data_analyser as collision_data_analyser\n",
    "\n",
    "# Import skd core libraries\n",
    "import skd_core.skd_core_utils.skd_core_utils as skd_core_utils\n",
    "import skd_core.skd_core_generators.skd_safe_traj_gen as skd_safe_traj_gen\n"
   ]
  },
  {
   "cell_type": "markdown",
   "id": "cf670e76-15fb-4ab8-ae3a-781d65aa873e",
   "metadata": {},
   "source": [
    "### Using the Kamikaze Trajectory Generator\n",
    "\n",
    "**Usage:**\n",
    "To use the module, only the following 2 steps are needed:\n",
    "- Generate a safe experiments configuration file\n",
    "- Execute experiments according to configuration file"
   ]
  },
  {
   "cell_type": "markdown",
   "id": "823315d8-4771-45e8-8d57-4af4c3ad2f8c",
   "metadata": {},
   "source": [
    "**Generating a config file:**"
   ]
  },
  {
   "cell_type": "code",
   "execution_count": 2,
   "id": "1d7d8989-e195-44e8-b881-60da39cf8da3",
   "metadata": {
    "tags": []
   },
   "outputs": [
    {
     "name": "stdout",
     "output_type": "stream",
     "text": [
      "GENERATING CONFIG PATH\n",
      "DONE\n"
     ]
    }
   ],
   "source": [
    "# Example function to generate safe traj generation experiments\n",
    "def generate_safe_experiments_config():\n",
    "    # Set outpath for config file (Send it to ../config for now)\n",
    "\t# Set options for config file\n",
    "    config_outpath = os.getcwd() + \"/testing_output/safe_traj_gen.yaml\"\n",
    "    # Set goal bounds in [longit_min, longit_max, hoz_min, hoz_max]\n",
    "    goal_bound1 = [119, 120, -4.75, -3.75]\n",
    "    goal_bound2 = [119.5, 121, -4, -3.5]\n",
    "    goal_bounds = [goal_bound1, goal_bound2]\n",
    "    # Number of attempts per goal bound\n",
    "    attempts = 3\n",
    "    # Initial state for safe traj file [ped_longit, ped_hoz, car_longit, car_hoz, car_speed, car_intention]\n",
    "    initial_state = [120, 3, 100, -2, 0, 3]\n",
    "    configs = skd_core_utils.get_safe_trajs_config(goal_bounds, initial_state, attempts)\n",
    "    # Save configs to outpath\n",
    "    skd_core_utils.save_dict_to_yaml(configs, config_outpath)\n",
    "    \n",
    "    # Return config outpath\n",
    "    return config_outpath\n",
    "\n",
    "\n",
    "\n",
    "#### Generate example kamikaze traj gen from configuration file ######\n",
    "print(\"GENERATING CONFIG PATH\")\n",
    "config_filepath = generate_safe_experiments_config()\n",
    "print(\"DONE\")"
   ]
  },
  {
   "cell_type": "markdown",
   "id": "dd0bc6a2-12eb-48af-9aa4-e4f8241c7f2f",
   "metadata": {},
   "source": [
    "**Executing config file**"
   ]
  },
  {
   "cell_type": "code",
   "execution_count": 3,
   "id": "ca3f9216-6f34-42d1-95c3-05e111803051",
   "metadata": {},
   "outputs": [
    {
     "name": "stdout",
     "output_type": "stream",
     "text": [
      "EXECUTING EXPERIMENTS ON CONFIG FILE\n",
      "{'goal_bounds': [[119, 120, -4.75, -3.75], [119.5, 121, -4, -3.5]], 'initial_state': [120, 3, 100, -2, 0, 3], 'safe_trajs_attempts_per_goal': 3}\n"
     ]
    },
    {
     "ename": "FileNotFoundError",
     "evalue": "[Errno 2] No such file or directory: '/home/jimy/SKD_DEVEL/skd_python/skd_notebooks/testing_output/testingSafe/oppt_logs/goal_119_120_-4_-3/log_ABT_Pedestrian_safe_traj_gen_goal_119_120_-4_-3.log'",
     "output_type": "error",
     "traceback": [
      "\u001b[0;31m---------------------------------------------------------------------------\u001b[0m",
      "\u001b[0;31mFileNotFoundError\u001b[0m                         Traceback (most recent call last)",
      "\u001b[0;32m<ipython-input-3-2dc719aab51f>\u001b[0m in \u001b[0;36m<module>\u001b[0;34m()\u001b[0m\n\u001b[1;32m     12\u001b[0m \u001b[0mprint\u001b[0m\u001b[0;34m(\u001b[0m\u001b[0;34m\"EXECUTING EXPERIMENTS ON CONFIG FILE\"\u001b[0m\u001b[0;34m)\u001b[0m\u001b[0;34m\u001b[0m\u001b[0;34m\u001b[0m\u001b[0m\n\u001b[1;32m     13\u001b[0m \u001b[0mexperiments_outdir\u001b[0m \u001b[0;34m=\u001b[0m \u001b[0mos\u001b[0m\u001b[0;34m.\u001b[0m\u001b[0mgetcwd\u001b[0m\u001b[0;34m(\u001b[0m\u001b[0;34m)\u001b[0m \u001b[0;34m+\u001b[0m \u001b[0;34m\"/testing_output/testingSafe\"\u001b[0m\u001b[0;34m\u001b[0m\u001b[0;34m\u001b[0m\u001b[0m\n\u001b[0;32m---> 14\u001b[0;31m \u001b[0msummary_file\u001b[0m \u001b[0;34m=\u001b[0m \u001b[0mexecute_pomdp_safe_traj_experiments\u001b[0m\u001b[0;34m(\u001b[0m\u001b[0mexperiments_outdir\u001b[0m\u001b[0;34m,\u001b[0m \u001b[0mconfig_filepath\u001b[0m\u001b[0;34m,\u001b[0m \u001b[0mplanner_path\u001b[0m\u001b[0;34m,\u001b[0m \u001b[0mgeneric_cfg_path\u001b[0m\u001b[0;34m)\u001b[0m\u001b[0;34m\u001b[0m\u001b[0;34m\u001b[0m\u001b[0m\n\u001b[0m\u001b[1;32m     15\u001b[0m \u001b[0;34m\u001b[0m\u001b[0m\n",
      "\u001b[0;32m<ipython-input-3-2dc719aab51f>\u001b[0m in \u001b[0;36mexecute_pomdp_safe_traj_experiments\u001b[0;34m(outputdir, safe_config_filepath, planner_exec_path, generic_config_path)\u001b[0m\n\u001b[1;32m      3\u001b[0m         \u001b[0;31m# Create a generator to serve all the options in the configuration file\u001b[0m\u001b[0;34m\u001b[0m\u001b[0;34m\u001b[0m\u001b[0;34m\u001b[0m\u001b[0m\n\u001b[1;32m      4\u001b[0m         \u001b[0msafe_traj_generator\u001b[0m \u001b[0;34m=\u001b[0m \u001b[0mskd_safe_traj_gen\u001b[0m\u001b[0;34m.\u001b[0m\u001b[0mSafeTrajGenerator\u001b[0m\u001b[0;34m(\u001b[0m\u001b[0msafe_config_filepath\u001b[0m\u001b[0;34m,\u001b[0m \u001b[0moutputdir\u001b[0m\u001b[0;34m)\u001b[0m\u001b[0;34m\u001b[0m\u001b[0;34m\u001b[0m\u001b[0m\n\u001b[0;32m----> 5\u001b[0;31m         \u001b[0msafe_traj_generator\u001b[0m\u001b[0;34m.\u001b[0m\u001b[0mgenerate_config_safe_trajectories\u001b[0m\u001b[0;34m(\u001b[0m\u001b[0mplanner_exec_path\u001b[0m\u001b[0;34m,\u001b[0m \u001b[0mgeneric_config_path\u001b[0m\u001b[0;34m)\u001b[0m\u001b[0;34m\u001b[0m\u001b[0;34m\u001b[0m\u001b[0m\n\u001b[0m\u001b[1;32m      6\u001b[0m \u001b[0;34m\u001b[0m\u001b[0m\n\u001b[1;32m      7\u001b[0m \u001b[0;34m\u001b[0m\u001b[0m\n",
      "\u001b[0;32m/home/jimy/SKD_DEVEL/skd_python/skd_core/skd_core_generators/skd_safe_traj_gen.py\u001b[0m in \u001b[0;36mgenerate_config_safe_trajectories\u001b[0;34m(self, planner_executable_path, generic_cfg_path)\u001b[0m\n\u001b[1;32m    109\u001b[0m \u001b[0;34m\u001b[0m\u001b[0m\n\u001b[1;32m    110\u001b[0m                         \u001b[0;31m# Safe successful safe_trajs\u001b[0m\u001b[0;34m\u001b[0m\u001b[0;34m\u001b[0m\u001b[0;34m\u001b[0m\u001b[0m\n\u001b[0;32m--> 111\u001b[0;31m                         \u001b[0mself\u001b[0m\u001b[0;34m.\u001b[0m\u001b[0msafe_trajs_generated\u001b[0m \u001b[0;34m=\u001b[0m \u001b[0msafe_traj_validator\u001b[0m\u001b[0;34m.\u001b[0m\u001b[0msave_successful_safe_trajs\u001b[0m\u001b[0;34m(\u001b[0m\u001b[0mvalidator_outdir\u001b[0m \u001b[0;34m+\u001b[0m \u001b[0;34m\"/safe_trajs.json\"\u001b[0m\u001b[0;34m)\u001b[0m\u001b[0;34m\u001b[0m\u001b[0;34m\u001b[0m\u001b[0m\n\u001b[0m\u001b[1;32m    112\u001b[0m \u001b[0;34m\u001b[0m\u001b[0m\n\u001b[1;32m    113\u001b[0m                         \u001b[0mprint\u001b[0m\u001b[0;34m(\u001b[0m\u001b[0;34m\"=============================== SAFE TRAJS GENERATED ============================================\"\u001b[0m\u001b[0;34m)\u001b[0m\u001b[0;34m\u001b[0m\u001b[0;34m\u001b[0m\u001b[0m\n",
      "\u001b[0;32m/home/jimy/SKD_DEVEL/skd_python/skd_core/skd_core_generators/skd_safe_traj_gen.py\u001b[0m in \u001b[0;36msave_successful_safe_trajs\u001b[0;34m(self, dst_filepath)\u001b[0m\n\u001b[1;32m    182\u001b[0m                 \u001b[0meach\u001b[0m \u001b[0mtrajectory\u001b[0m \u001b[0;32mis\u001b[0m \u001b[0mpair\u001b[0m \u001b[0;32mwith\u001b[0m \u001b[0man\u001b[0m \u001b[0mindex\u001b[0m \u001b[0;32mas\u001b[0m \u001b[0ma\u001b[0m \u001b[0mkey\u001b[0m\u001b[0;34m.\u001b[0m\u001b[0;34m\u001b[0m\u001b[0;34m\u001b[0m\u001b[0m\n\u001b[1;32m    183\u001b[0m \t\t\"\"\"\n\u001b[0;32m--> 184\u001b[0;31m                 \u001b[0mself\u001b[0m\u001b[0;34m.\u001b[0m\u001b[0mlog_analyser\u001b[0m\u001b[0;34m.\u001b[0m\u001b[0msplit_runs\u001b[0m\u001b[0;34m(\u001b[0m\u001b[0;34m)\u001b[0m\u001b[0;34m\u001b[0m\u001b[0;34m\u001b[0m\u001b[0m\n\u001b[0m\u001b[1;32m    185\u001b[0m                 \u001b[0msafe_trajs\u001b[0m \u001b[0;34m=\u001b[0m \u001b[0mself\u001b[0m\u001b[0;34m.\u001b[0m\u001b[0mlog_analyser\u001b[0m\u001b[0;34m.\u001b[0m\u001b[0mget_successful_ped_trajectories\u001b[0m\u001b[0;34m(\u001b[0m\u001b[0;34m)\u001b[0m\u001b[0;34m\u001b[0m\u001b[0;34m\u001b[0m\u001b[0m\n\u001b[1;32m    186\u001b[0m \u001b[0;34m\u001b[0m\u001b[0m\n",
      "\u001b[0;32m/home/jimy/SKD_DEVEL/skd_python/skd_core/skd_core_analysers/oppt_log_analyser.py\u001b[0m in \u001b[0;36msplit_runs\u001b[0;34m(self)\u001b[0m\n\u001b[1;32m    120\u001b[0m         \u001b[0;32mdef\u001b[0m \u001b[0msplit_runs\u001b[0m\u001b[0;34m(\u001b[0m\u001b[0mself\u001b[0m\u001b[0;34m)\u001b[0m\u001b[0;34m:\u001b[0m\u001b[0;34m\u001b[0m\u001b[0;34m\u001b[0m\u001b[0m\n\u001b[1;32m    121\u001b[0m                 \u001b[0;31m#FILE IO\u001b[0m\u001b[0;34m\u001b[0m\u001b[0;34m\u001b[0m\u001b[0;34m\u001b[0m\u001b[0m\n\u001b[0;32m--> 122\u001b[0;31m                 \u001b[0mreadFile\u001b[0m \u001b[0;34m=\u001b[0m \u001b[0mopen\u001b[0m\u001b[0;34m(\u001b[0m\u001b[0mself\u001b[0m\u001b[0;34m.\u001b[0m\u001b[0mfilepath\u001b[0m\u001b[0;34m)\u001b[0m\u001b[0;34m\u001b[0m\u001b[0;34m\u001b[0m\u001b[0m\n\u001b[0m\u001b[1;32m    123\u001b[0m \u001b[0;34m\u001b[0m\u001b[0m\n\u001b[1;32m    124\u001b[0m                 \u001b[0;31m# Create local dirs for particular log analysis\u001b[0m\u001b[0;34m\u001b[0m\u001b[0;34m\u001b[0m\u001b[0;34m\u001b[0m\u001b[0m\n",
      "\u001b[0;31mFileNotFoundError\u001b[0m: [Errno 2] No such file or directory: '/home/jimy/SKD_DEVEL/skd_python/skd_notebooks/testing_output/testingSafe/oppt_logs/goal_119_120_-4_-3/log_ABT_Pedestrian_safe_traj_gen_goal_119_120_-4_-3.log'"
     ]
    }
   ],
   "source": [
    "# Execute the kamikaze trajecoty experiments based on configuration file\n",
    "def execute_pomdp_safe_traj_experiments(outputdir, safe_config_filepath, planner_exec_path, generic_config_path):\n",
    "\t# Create a generator to serve all the options in the configuration file\n",
    "\tsafe_traj_generator = skd_safe_traj_gen.SafeTrajGenerator(safe_config_filepath, outputdir)\n",
    "\tsafe_traj_generator.generate_config_safe_trajectories(planner_exec_path, generic_config_path)\n",
    "\n",
    "\n",
    "\n",
    "#### Generate example kamikaze traj gen from configuration file ######\n",
    "planner_path = os.getenv(\"HOME\") + \"/jimy_ws/oppt/bin/abt\"\n",
    "generic_cfg_path = os.getenv(\"HOME\") + \"/SKD_DEVEL/skd_oppt/cfg/SKDBasicController/SafeTrajGen.cfg\"\n",
    "print(\"EXECUTING EXPERIMENTS ON CONFIG FILE\")\n",
    "experiments_outdir = os.getcwd() + \"/testing_output/testingSafe\"\n",
    "summary_file = execute_pomdp_safe_traj_experiments(experiments_outdir, config_filepath, planner_path, generic_cfg_path)\n",
    "\n"
   ]
  }
 ],
 "metadata": {
  "kernelspec": {
   "display_name": "Python 3",
   "language": "python",
   "name": "python3"
  },
  "language_info": {
   "codemirror_mode": {
    "name": "ipython",
    "version": 3
   },
   "file_extension": ".py",
   "mimetype": "text/x-python",
   "name": "python",
   "nbconvert_exporter": "python",
   "pygments_lexer": "ipython3",
   "version": "3.6.12"
  }
 },
 "nbformat": 4,
 "nbformat_minor": 5
}
